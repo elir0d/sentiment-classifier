{
 "cells": [
  {
   "cell_type": "markdown",
   "metadata": {},
   "source": [
    "<p align=\"center\">\n",
    "    <img align=\"left\" width=\"650\" height=\"150\" src=\"assets/MbaLogo2.png\">\n",
    "    <img align=\"right\" width=\"150\" height=\"150\" src=\"assets/MbaLogo.png\">\n",
    "</p>"
   ]
  },
  {
   "cell_type": "markdown",
   "metadata": {},
   "source": [
    "<p style=\"text-align: right;\"> Version: 1.0 - \n",
    "17.01.2024 - \n",
    "Elison Rodrigo M. Trindade\n",
    "</p>"
   ]
  },
  {
   "cell_type": "markdown",
   "metadata": {},
   "source": [
    "---"
   ]
  },
  {
   "cell_type": "markdown",
   "metadata": {},
   "source": [
    "<div style=\"text-align:center\">\n",
    "    <span style=\"color:#0d3db2; font-family:Georgia; font-size:2em;\">\n",
    "        Applying CRISP-DM Framework to a Classification Problem\n",
    "    </span>\n",
    "</div>\n",
    "    <br/>\n",
    "<div style=\"text-align:center\">\n",
    "    <span style=\"color:#0d3db2; font-family:Georgia; font-size:1.5em;\">  \n",
    "        Sentiment classification on social media: applying machine learning for decision-making support\n",
    "    </span>\n",
    "</div>\n",
    "<p align=\"center\">\n",
    "    <img align=\"center\" width=\"500\" height=\"500\" src=\"assets/CRISP-DM_Process_Diagram.png\">\n",
    "</p>"
   ]
  },
  {
   "cell_type": "markdown",
   "metadata": {},
   "source": [
    "CRISP-DM stands for cross-industry process for data mining. It provides a structured approach to planning a data mining project. It is a robust and well-proven methodology. This model is an idealized sequence of events. In practice many of the tasks can be performed in a different order and it will often be necessary to backtrack to previous tasks and repeat certain actions."
   ]
  },
  {
   "cell_type": "markdown",
   "metadata": {},
   "source": [
    "[*Source: CRISP-DM*](https://en.wikipedia.org/wiki/Cross-industry_standard_process_for_data_mining)\n",
    "\n",
    "The CRISP-DM methodology folow 6 steps.\n",
    "\n",
    "The CRoss Industry Standard Process for Data Mining (CRISP-DM) is a process model that serves as the base for a data science process. It has six sequential phases:\n",
    "\n",
    "* Business understanding – What does the business need?\n",
    "* Data understanding – What data do we have / need? Is it clean?\n",
    "* Data preparation – How do we organize the data for modeling?\n",
    "* Modeling – What modeling techniques should we apply?\n",
    "* Evaluation – Which model best meets the business objectives?\n",
    "* Deployment – How do stakeholders access the results?\n",
    "\n",
    "Published in 1999 to standardize data mining processes across industries, it has since become the most common methodology for data mining, analytics, and data science projects.\n",
    "\n",
    "Data science teams that combine a loose implementation of CRISP-DM with overarching team-based agile project management approaches will likely see the best results.\n"
   ]
  },
  {
   "cell_type": "markdown",
   "metadata": {},
   "source": [
    "\n",
    "\n",
    "***\n",
    "\n",
    "# Table of content <a class=\"anchor\" id=\"Index\"></a>\n",
    "\n",
    "**The structure of the document folows the methodology**\n",
    "\n",
    "1. [Business understanding](#Businessunderstanding)\n",
    "    1. [Assess the Current Situation](#Assessthecurrentsituation)\n",
    "        1. [Inventory of resources](#Inventory)\n",
    "        2. [Requirements, assumptions and constraints](#Requirements)\n",
    "        3. [Risks and contingencies](#Risks)\n",
    "        4. [Terminology](#Terminology)\n",
    "        5. [Costs and benefits](#CostBenefit)\n",
    "    2. [What are the Desired Outputs](#Desiredoutputs)\n",
    "    3. [What Questions Are We Trying to Answer?](#QA)\n",
    "2. [Data Understanding](#Dataunderstanding)\n",
    "    1. [Initial Data Report](#Datareport)\n",
    "    2. [Describe Data](#Describedata)\n",
    "    3. [Verify Data Quality](#Verifydataquality)\n",
    "        1. [Missing Data](#MissingData) \n",
    "        2. [Outliers](#Outliers) \n",
    "        3. [Data Quality Report](#DataQualityReport)\n",
    "    4. [Initial Data Exploration](#Exploredata)\n",
    "        1. [Distributions](#Distributions)   \n",
    "        2. [Correlations](#Correlations) \n",
    "        2. [Time-Series Analysis per Store Type](#TimeSeriesAnalysis)\n",
    "    5. [Data Exploration Report](#IDataExplorationReport)        \n",
    "3. [Data Preparation](#Datapreperation2)\n",
    "    1. [Select Your Data](#Selectyourdata)\n",
    "    2. [Cleanse the Data](#Cleansethedata)\n",
    "        1. [Label Encoding](#labelEncoding)\n",
    "        2. [Drop Unnecessary Columns](#DropCols)\n",
    "        3. [Altering Datatypes](#AlteringDatatypes)\n",
    "        4. [Dealing With Zeros](#DealingZeros)\n",
    "    3. [Integrate Data](#Integratedata)\n",
    "4. [Exploratory Data Analysis](#EDA)\n",
    "5. [Modelling](#Modelling)\n",
    "    1. [Modelling Technique](#ModellingTechnique)\n",
    "    2. [Modelling Assumptions](#ModellingAssumptions)\n",
    "    3. [Build Model](#BuildModel)\n",
    "    4. [Assess Model](#AssessModel)\n",
    "6. [Evaluation](#Evaluation)\n",
    "7. [Deployment](#Deployment)\n",
    "8. [Monitoring](#Monitoring)"
   ]
  },
  {
   "cell_type": "markdown",
   "metadata": {},
   "source": [
    "***"
   ]
  },
  {
   "cell_type": "markdown",
   "metadata": {},
   "source": [
    "# 1 - Determine Business Objectives and Assess the Situation  <a class=\"anchor\" id=\"Businessunderstanding\"></a>\n",
    "The first stage of the CRISP-DM process is to understand what you want to accomplish from a business perspective. Your organisation may have competing objectives and constraints that must be properly balanced. The goal of this stage of the process is to uncover important factors that could influence the outcome of the project. Neglecting this step can mean that a great deal of effort is put into producing the right answers to the wrong questions.\n",
    "\n",
    "This involves more detailed facts about all of the resources, constraints, assumptions and other factors that you'll need to consider when determining your data analysis goal and project plan. \n",
    "\n",
    "**Task:**\n",
    "\n",
    "* To understand the client's goals in the context of sentiment analysis on social media for monitoring brand perception, this could mean determining key metrics such as positive, negative, and neutral sentiment percentages, identifying trends over time, or uncovering specific areas of concern or praise in customer feedback. The analyst would then use these insights to inform business decisions and strategies.\n",
    "\n",
    "**Outputs:**\n",
    "\n",
    "* Background: The main goal of the four main household appliances is to understand how their products are being perceived in the market, what customers are saying about them, and how they can improve their products and services based on this feedback. They may also be interested in comparing sentiment across their different brands or tracking changes in sentiment over time. The data for this analysis will be collected from three major social media platforms: Twitter, Facebook, and Instagram. The data will likely include user posts, comments, shares, and other forms of engagement.\n",
    "\n",
    "* Business objectives: The organization might also have specific business questions they want to answer, such as identifying common complaints or praises, understanding the impact of specific events or campaigns on sentiment, or comparing their performance to competitors.\n",
    "\n",
    "* Business success criteria: Achieve a high-level accuracy machine learning model that can classify sentiments in an efficient way. The ultimate goal of this project is to use these insights to inform business decisions, improve customer satisfaction, and ultimately enhance the brand's reputation and performance."
   ]
  },
  {
   "cell_type": "markdown",
   "metadata": {},
   "source": [
    "![](assets/1.JPG)"
   ]
  },
  {
   "cell_type": "markdown",
   "metadata": {},
   "source": [
    "## 1.1 Assess the Current Situation<a class=\"anchor\" id=\"Assessthecurrentsituation\"></a>"
   ]
  },
  {
   "cell_type": "markdown",
   "metadata": {},
   "source": [
    "This involves more detailed facts about all of the resources, constraints, assumptions and other factors that you'll need to consider when determining your data analysis goal and project plan. \n",
    "\n",
    "**Task:**\n",
    "\n",
    "\n",
    "* Objective: Analyze customer reviews of a company's products on social media in order to understand and classifying sentiments of the customers posts, identify common themes in customer feedback, and provide actionable insights for product improvement. \n",
    "\n",
    "* Data Collection: Collect data from online platforms where customers post reviews. Data includes the review text, rating, date of the review, and other available metadata.\n",
    "\n",
    "* Data Preprocessing: Clean and preprocess the review text, and convert the preprocessed text into a format suitable for machine learning.\n",
    "\n",
    "* Model Building: Build a sentiment analysis model using machine learning algorithms.\n",
    "\n",
    "* Model Evaluation and Selection: Evaluate the models using appropriate metrics and select the best performing model.\n",
    "\n",
    "* Insight Generation: Use the model to analyze the sentiment of the reviews and identify common themes in the reviews.\n",
    "\n",
    "* Reporting: Report the findings in a clear and understandable manner, highlight the key insights, and provide actionable recommendations for product improvement.\n",
    "\n",
    "\n",
    "**Outputs:** \n",
    "* **List the resources available to the project.**\n",
    "\n",
    "    * **Personnel:** \n",
    "        * A Data Scientist - Me \n",
    "\n",
    "    * **Data:** \n",
    "        * Datasets collected through web scraping from three social media platforms: Twitter, Facebook, and Instagram\n",
    "\n",
    "    * **Computing resources:**\n",
    "        * Lenovo Thinpad Razen3 5000, 8Gb SSD256\n",
    "\n",
    "    * **Software:**\n",
    "\n",
    "        * Jupyter Notebook\n",
    "        * Python 3.11\n",
    "        * Conda 23.11\n",
    "        * Dagshub Web Platform\n",
    "        * DVC\n",
    "        * Git\n",
    "\n",
    "* **Requirements, assumptions and constraints**\n",
    "\n",
    "    * **Requirements**:\n",
    "        * **Schedule of Completion**: The project should be completed within 3 months, with the following breakdown:\n",
    "            - Week 1-2: Data collection from social media platforms.\n",
    "            - Week 3-4: Preprocessing of social media posts.\n",
    "            - Week 5-6: Model building.\n",
    "            - Week 7: Evaluation.\n",
    "            - Week 8-12: Reporting and presentation of results.\n",
    "        * **Comprehensibility and Quality of Results**: The sentiment analysis model should have an accuracy of at least 85%. The insights derived should be relevant to business objectives, such as improving product features or customer service.\n",
    "        * **Security and Legal Issues**: All data used should comply with privacy laws and regulations. Appropriate data security measures should be implemented to protect user information.\n",
    "\n",
    "    * **Assumptions**:\n",
    "        * **Data Assumptions**: The data collected from social media platforms like Twitter, Instagram and Facebook is a representative sample of customers sentiments about four main household appliances brand products and service.\n",
    "        * **Business Assumptions**: Improving areas of the product that receive negative sentiment will lead to increased customer satisfaction and loyalty.\n",
    "\n",
    "    * **Constraints**:\n",
    "        * **Resource Availability**: The project team consists of  1 data scientists(me) with a dedication of 4 hours per week to this project.\n",
    "        * **Technological Constraints**: The computational and resources can handle up to 1 GB of data storage and processing.\n",
    "\n",
    "\n",
    "* **Risks and contingencies**\n",
    "\n",
    "    * **Risks**:\n",
    "       * **Data Quality**: The data collected from social media may not be representative or may contain a lot of noise and irrelevant information.\n",
    "       * **Model Performance**: The sentiment analysis model may not perform as expected due to various reasons such as overfitting, underfitting, bias or the quality of the data.\n",
    "       * **Legal and Ethical Issues**: There may be legal and ethical issues related to data privacy and usage.\n",
    "       * **Resource Constraints**: There may be constraints in terms of time, computational resources or staff.\n",
    "\n",
    "    * **Contingency Measures**:\n",
    "       * **Data Quality**: Regularly monitor and validate the quality of the data. Use robust data cleaning and preprocessing methods. If necessary, consider collecting more data or using different data sources.\n",
    "       * **Model Performance**: Regularly evaluate the model performance using appropriate metrics and validation techniques. Consider trying different models or tuning the model parameters if the performance is not satisfactory.\n",
    "       * **Legal and Ethical Issues**: Ensure compliance with all relevant laws and regulations. Obtain necessary permissions for data usage. Implement appropriate data security measures.\n",
    "       * **Resource Constraints**: Plan the project carefully to make efficient use of available resources. If necessary, consider seeking additional resources or adjusting the project scope.\n",
    "\n",
    "* **Terminology**\n",
    "\n",
    "    * **Sentiment Analysis**: This is the process of determining the emotional tone behind words to understand the attitudes, opinions, and emotions of a speaker or writer. In the context of social media, it's used to understand the sentiments of posts and comments about a product or service.\n",
    "\n",
    "    * **Data Mining**: This is the process of discovering patterns in large data sets involving methods at the intersection of machine learning, statistics, and database systems. It's an essential process where intelligent methods are applied to extract data patterns.\n",
    "\n",
    "    * **Natural Language Processing (NLP)**: This is a subfield of artificial intelligence that focuses on the interaction between computers and humans through natural language. The ultimate objective of NLP is to read, decipher, understand, and make sense of human language in a valuable way.\n",
    "\n",
    "    * **Machine Learning**: This is a method of data analysis that automates analytical model building. It's a branch of artificial intelligence based on the idea that systems can learn from data, identify patterns and make decisions with minimal human intervention.\n",
    "\n",
    "    * **Overfitting and Underfitting**: Overfitting occurs when a statistical model or machine learning algorithm captures the noise of the data. Underfitting occurs when a statistical model or machine learning algorithm cannot capture the underlying trend of the data.\n",
    "\n",
    "    * **Bias and Variance**: Bias is the simplifying assumptions made by the model to make the target function easier to approximate. Variance is the amount that the estimate of the target function will change given different training data.\n",
    "\n",
    "    * **Training and Test Data**: Training data is used to train an algorithm, often with the aim of fitting a model. Test data is used to assess how well that model has been fitted.\n",
    "\n",
    "* **Costs and benefits**\n",
    "\n",
    "    * **Costs**:\n",
    "        * **Data Collection and Processing**: This includes the cost of collecting and preprocessing the social media data. It could involve costs for APIs to collect data, servers for data storage, and computational resources for data processing.\n",
    "        * **Model Development**: This includes the cost of the time and resources spent on developing, training, and testing the sentiment analysis model.\n",
    "        * **Deployment and Maintenance**: Once the model is developed, there could be costs associated with deploying it in a production environment and maintaining it over time.\n",
    "\n",
    "    * **Benefits**:\n",
    "        * **Improved Decision Making**: By understanding customer sentiment, the business can make more informed decisions about product development, marketing strategies, customer service, etc. This can lead to increased sales, customer retention, and overall business growth.\n",
    "        * **Cost Savings**: By automating the process of sentiment analysis, the business can potentially save on the costs of manual data analysis and market research."
   ]
  },
  {
   "cell_type": "markdown",
   "metadata": {},
   "source": [
    " ## 1.2 What are the desired outputs of the project? <a class=\"anchor\" id=\"Desiredoutputs\"></a>"
   ]
  },
  {
   "cell_type": "markdown",
   "metadata": {},
   "source": [
    "* **Business Success Criteria**:\n",
    "    * **Improved Business Decisions**: The insights from the sentiment analysis should lead to more informed business decisions. For example, if negative sentiment is frequently associated with a certain product feature, the company might decide to modify that feature.\n",
    "    * **Increased Customer Satisfaction**: If the insights are acted upon, there should be an observable increase in customer satisfaction. This could be measured through metrics like customer reviews, repeat purchases or reduced complaints.\n",
    "\n",
    "* **Data Mining Success Criteria**:\n",
    "    * **Exploratory Data Analysis (EDA)**: The EDA should reveal the main metrics, trends, and patterns in the sentiment data. For example, it might reveal that sentiment about the company is particularly negative on certain social media platforms, or at certain times.\n",
    "    * **Sentiment Analysis Model Performance**: The sentiment analysis model should accurately classify social media posts as positive, negative or neutral. This could be measured using metrics like precision, recall or F1 score.\n",
    "    * **Insight Generation**: The analysis should generate actionable insights for the company. For example, it might identify specific product features or customer service issues that are driving negative sentiment.\n",
    "\n",
    "* **Project Plan**:\n",
    "---\n",
    " <p style=\"text-align: center;\">2023/2024</p>\n",
    "</div>\n",
    "<p align=\"center\">\n",
    "    <img align=\"center\" width=\"600\" height=\"500\" src=\"assets/Project-Plan.png\">\n",
    "</p>\n",
    "\n",
    "---"
   ]
  },
  {
   "cell_type": "markdown",
   "metadata": {},
   "source": [
    "![](project.JPG)"
   ]
  },
  {
   "cell_type": "markdown",
   "metadata": {},
   "source": [
    " ## 1.3 What Questions Are We Trying To Answer? <a class=\"anchor\" id=\"QA\"></a>"
   ]
  },
  {
   "cell_type": "markdown",
   "metadata": {},
   "source": [
    "* What is the overall sentiment towards our brand on social media platforms?\n",
    "* Are there certain products or services that receive more negative sentiment than others?\n",
    "* How does sentiment towards our brand vary across different social media platforms?\n",
    "* Are there specific events or time periods where sentiment towards our brand significantly changes?\n",
    "* Can we identify any trends or patterns in the sentiment data over time?\n",
    "* How accurate is our sentiment analysis model in classifying social media posts?\n",
    "* What actionable insights can we derive from the sentiment analysis to improve our business?"
   ]
  },
  {
   "cell_type": "markdown",
   "metadata": {},
   "source": [
    "***"
   ]
  },
  {
   "cell_type": "markdown",
   "metadata": {},
   "source": [
    "# 2. Stage  Two - Data Understanding <a class=\"anchor\" id=\"Dataunderstanding\"></a>\n",
    "The second stage of the CRISP-DM process requires you to acquire the data listed in the project resources. This initial collection includes data loading, if this is necessary for data understanding. For example, if you use a specific tool for data understanding, it makes perfect sense to load your data into this tool. If you acquire multiple data sources then you need to consider how and when you're going to integrate these."
   ]
  },
  {
   "cell_type": "markdown",
   "metadata": {},
   "source": [
    "![](assets/2.JPG)"
   ]
  },
  {
   "cell_type": "markdown",
   "metadata": {},
   "source": [
    "## 2.1 Initial Data Report <a class=\"anchor\" id=\"Datareport\"></a>\n",
    "\n",
    "\n",
    "List the data sources acquired together with their locations, the methods used to acquire them and any problems encountered. Record problems you encountered and any resolutions achieved. This will help both with future replication of this project and with the execution of similar future projects."
   ]
  },
  {
   "cell_type": "markdown",
   "metadata": {},
   "source": [
    "**Tasks**\n",
    "\n",
    "* **Data Sources and Locations**:\n",
    "    * **Twitter**: Public tweets can be collected using the Twitter API. The data includes tweet content, user information, and metadata such as the time of the tweet and engagement metrics (likes, retweets, etc.).\n",
    "    * **Facebook**: Public posts from Facebook Pages can be collected using the Facebook Graph API. The data includes post content, user reactions, and metadata.\n",
    "\n",
    "* **Methods Used to Acquire Data**:\n",
    "    * **APIs**: Both Twitter and Facebook/Instagram provide APIs that allow for the collection of public posts. These APIs have certain rate limits and require authentication, so an access token is needed. It might have some costs too.\n",
    "    * **Web Scraping**: In some cases, web scraping might be used as a method to collect data. However, this should be done in compliance with the platform's terms of service.\n",
    "\n",
    "* **Problems Encountered and Resolutions**:\n",
    "    * **Rate Limits**: API's often have rate limits that restrict the amount of data you can collect in a certain timeframe. To handle this, we can implement a pause in our data collection script to prevent hitting the rate limit and generate to much costs.\n",
    "    * **Data Quality**: Social media data can be noisy and unstructured. Preprocessing steps such as cleaning, normalization, and tokenization can be used to improve the quality of the data.\n",
    "    * **Privacy Concerns**: It's important to respect user privacy when collecting social media data. Only collect publicly available data and avoid collecting sensitive information. Always comply with the terms of service of the platform."
   ]
  },
  {
   "cell_type": "markdown",
   "metadata": {},
   "source": [
    "This is the dataset schema/description:\n",
    "\n",
    "* **social**: This column would contain the name of the social media platform from which the post was collected. For example, 'Twitter', 'Facebook', etc. It would likely be a categorical variable.\n",
    "\n",
    "* **post**: This column would contain the actual text of the social media post. This would be a text variable, and could contain any kind of text data - from short tweets and Instagram emojis to longer Facebook posts.\n",
    "\n",
    "* **sentiment**: This column would contain the sentiment of the post as determined by the sentiment analysis model. This could be a categorical variable with values like 'Positive', 'Negative', and 'Neutral'. Alternatively, it could be a numerical variable if the sentiment is represented as a score.\n",
    "\n",
    "Here's an example of how the data might look:\n",
    "\n",
    "| social | post | sentiment |\n",
    "|--------|------|-----------|\n",
    "| Twitter | \"I love my new refrigerator!\" | Positive |\n",
    "| Facebook | \"The customer service was terrible.\" | Negative |\n",
    "| Instagram | \"Just got a new coffemachine. It's okay, I guess.\" | Neutral |\n"
   ]
  },
  {
   "cell_type": "code",
   "execution_count": 1,
   "metadata": {},
   "outputs": [],
   "source": [
    "# Libraries used in this notebook\n",
    "\n",
    "import re\n",
    "import os\n",
    "import spacy\n",
    "import pandas as pd\n",
    "import numpy as np\n",
    "import warnings\n",
    "from sklearn.feature_extraction.text import CountVectorizer, TfidfVectorizer\n",
    "\n",
    "# data visualization\n",
    "from matplotlib import pyplot as plt\n",
    "%matplotlib inline\n",
    "warnings.filterwarnings(\"ignore\")"
   ]
  },
  {
   "cell_type": "code",
   "execution_count": 2,
   "metadata": {},
   "outputs": [],
   "source": [
    "nlp = spacy.load('pt_core_news_lg')"
   ]
  },
  {
   "cell_type": "code",
   "execution_count": 111,
   "metadata": {},
   "outputs": [],
   "source": [
    "def remove_usernames(text):\n",
    "    \"\"\"\n",
    "    Method to remove social media usernames from the text.\n",
    "    :param text: str, input text from which usernames are to be removed.\n",
    "    :return: str, text with usernames removed.\n",
    "    \"\"\"\n",
    "    return re.sub('@[^\\s]+', '', text)\n",
    "\n",
    "def remove_urls(text):\n",
    "    \"\"\"\n",
    "    Method to remove URLs from the text.\n",
    "    :param text: str, input text from which URLs are to be removed.\n",
    "    :return: str, text with URLs removed.\n",
    "    \"\"\"\n",
    "    return re.sub('http[s]?://(?:[a-zA-Z]|[0-9]|[$-_@.&+]|[!*\\\\(\\\\),]|(?:%[0-9a-fA-F][0-9a-fA-F]))+', '', text)\n",
    "\n",
    "def remove_hashtags(text):\n",
    "    \"\"\"\n",
    "    Method to remove hashtags from the text.\n",
    "    :param text: str, input text from which hashtags are to be removed.\n",
    "    :return: str, text with hashtags removed.\n",
    "    \"\"\"\n",
    "    return re.sub('#[^\\s]+', '', text)\n",
    "\n",
    "def remove_new_lines_char(text):\n",
    "    \"\"\"\n",
    "    Method to remove hashtags from the text.\n",
    "    :param text: str, input text from which hashtags are to be removed.\n",
    "    :return: str, text with hashtags removed.\n",
    "    \"\"\"\n",
    "    return re.sub('\\[^\\s]+', '', text)\n",
    "\n",
    "def remove_non_alphabets(text):\n",
    "    \"\"\"\n",
    "    Method to remove non-alphabetic characters.\n",
    "    :param text: str, input text from which non-alphabetic characters are to be removed.\n",
    "    :return: str, text with non-alphabetic characters removed.\n",
    "    \"\"\"\n",
    "      # Remove all numbers\n",
    "    text = re.sub('\\\\d+', ' ', text)\n",
    "\n",
    "    # Remove all punctuation and chars\n",
    "    text = re.sub('[^A-Za-zÀ-ÖØ-öø-ÿ]', ' ', text, flags=re.UNICODE)\n",
    "\n",
    "    #remove multiple spaces\n",
    "    text = re.sub(r'\\s+', ' ', text)\n",
    "    return text\n",
    "\n",
    "def to_lower(text):\n",
    "    \"\"\"\n",
    "    Method to convert the text to lowercase.\n",
    "    :param text: str, input text to be converted to lowercase.\n",
    "    :return: str, text converted to lowercase.\n",
    "    \"\"\"\n",
    "    return text.lower()\n",
    "\n",
    "def tokenize(text):\n",
    "    \"\"\"\n",
    "    Method to tokenize the text.\n",
    "    :param text: str, input text to be tokenized.\n",
    "    :return: list, a list of tokens.\n",
    "    \"\"\"\n",
    "    doc = nlp(text)\n",
    "    return ' '.join([token.text for token in doc])\n",
    "\n",
    "def remove_stopwords(text):\n",
    "    \"\"\"\n",
    "    Method to remove irrelevant words (stop words).\n",
    "    :param text: str, input text from which stop words are to be removed.\n",
    "    :return: str, text with stop words removed.\n",
    "    \"\"\"\n",
    "    doc = nlp(text)\n",
    "    return ' '.join([token.text for token in doc if not token.is_stop])\n",
    "\n",
    "def lemmatize(text):\n",
    "    \"\"\"\n",
    "    Method to apply lemmatization, which is the process of converting a word to its base form.\n",
    "    :param text: str, input text to be lemmatized.\n",
    "    :return: str, text with words lemmatized.\n",
    "    \"\"\"\n",
    "    doc = nlp(text)\n",
    "    return ' '.join([token.lemma_ for token in doc])\n",
    "\n",
    "def pos_tagging(text):\n",
    "    \"\"\"\n",
    "    Method to identify the part of speech of each word.\n",
    "    :param text: str, input text to be part-of-speech tagged.\n",
    "    :return: list, a list of tuples where each tuple contains a word and its part of speech.\n",
    "    \"\"\"\n",
    "    doc = nlp(text)\n",
    "    return [(token.text, token.pos_) for token in doc]\n",
    "\n",
    "def bag_of_words(corpus):\n",
    "    \"\"\"\n",
    "    Method to convert the corpus into a Bag of Words representation.\n",
    "    :param corpus: list, a list of documents where each document is a string.\n",
    "    :return: tuple, a tuple containing the Bag of Words representation and the feature names.\n",
    "    \"\"\"\n",
    "    vectorizer = CountVectorizer()\n",
    "    X = vectorizer.fit_transform(corpus)\n",
    "    # X = vectorizer.get_feature_names_out()\n",
    "    return X\n",
    "\n",
    "def tf_idf(corpus):\n",
    "    \"\"\"\n",
    "    Method to convert the corpus into a TF-IDF representation.\n",
    "    :param corpus: list, a list of documents where each document is a string.\n",
    "    :return: tuple, a tuple containing the TF-IDF representation and the feature names.\n",
    "    \"\"\"\n",
    "    vectorizer = TfidfVectorizer()\n",
    "    X = vectorizer.fit_transform(corpus)\n",
    "    # X = vectorizer.get_feature_names_out()\n",
    "    return X"
   ]
  },
  {
   "cell_type": "code",
   "execution_count": 67,
   "metadata": {},
   "outputs": [
    {
     "data": {
      "text/html": [
       "<div>\n",
       "<style scoped>\n",
       "    .dataframe tbody tr th:only-of-type {\n",
       "        vertical-align: middle;\n",
       "    }\n",
       "\n",
       "    .dataframe tbody tr th {\n",
       "        vertical-align: top;\n",
       "    }\n",
       "\n",
       "    .dataframe thead th {\n",
       "        text-align: right;\n",
       "    }\n",
       "</style>\n",
       "<table border=\"1\" class=\"dataframe\">\n",
       "  <thead>\n",
       "    <tr style=\"text-align: right;\">\n",
       "      <th></th>\n",
       "      <th>plataforma</th>\n",
       "      <th>postagem</th>\n",
       "      <th>classe</th>\n",
       "    </tr>\n",
       "  </thead>\n",
       "  <tbody>\n",
       "    <tr>\n",
       "      <th>13780</th>\n",
       "      <td>instagram</td>\n",
       "      <td>❤️</td>\n",
       "      <td>positivo</td>\n",
       "    </tr>\n",
       "    <tr>\n",
       "      <th>8232</th>\n",
       "      <td>instagram</td>\n",
       "      <td>❤️</td>\n",
       "      <td>positivo</td>\n",
       "    </tr>\n",
       "    <tr>\n",
       "      <th>59042</th>\n",
       "      <td>instagram</td>\n",
       "      <td>bom dia pessoal! aonde envio as notas fiscais?...</td>\n",
       "      <td>neutro</td>\n",
       "    </tr>\n",
       "    <tr>\n",
       "      <th>28986</th>\n",
       "      <td>facebook</td>\n",
       "      <td>e embaixo congela bem</td>\n",
       "      <td>neutro</td>\n",
       "    </tr>\n",
       "    <tr>\n",
       "      <th>4203</th>\n",
       "      <td>instagram</td>\n",
       "      <td>o problema é no site de vocês e app para compr...</td>\n",
       "      <td>neutro</td>\n",
       "    </tr>\n",
       "  </tbody>\n",
       "</table>\n",
       "</div>"
      ],
      "text/plain": [
       "      plataforma                                           postagem    classe\n",
       "13780  instagram                                                 ❤️  positivo\n",
       "8232   instagram                                                 ❤️  positivo\n",
       "59042  instagram  bom dia pessoal! aonde envio as notas fiscais?...    neutro\n",
       "28986   facebook                              e embaixo congela bem    neutro\n",
       "4203   instagram  o problema é no site de vocês e app para compr...    neutro"
      ]
     },
     "execution_count": 67,
     "metadata": {},
     "output_type": "execute_result"
    }
   ],
   "source": [
    "# importing raw data to the notebook and rename columns\n",
    "df_raw = pd.read_pickle(\"./data/social_media_posts.pkl\")\n",
    "df_raw = df_raw[['Mídia Social', 'Conteúdo do Post', 'Classificação']]\n",
    "df_raw.columns = [\"plataforma\", \"postagem\", \"classe\"]\n",
    "# get a small SAMPLE\n",
    "df_raw_SAMPLE = df_raw.sample(n=13300)\n",
    "df_raw_SAMPLE.head()\n",
    "# df_raw"
   ]
  },
  {
   "cell_type": "code",
   "execution_count": 68,
   "metadata": {},
   "outputs": [
    {
     "name": "stdout",
     "output_type": "stream",
     "text": [
      "<class 'pandas.core.frame.DataFrame'>\n",
      "Index: 318190 entries, 0 to 25080\n",
      "Data columns (total 3 columns):\n",
      " #   Column      Non-Null Count   Dtype \n",
      "---  ------      --------------   ----- \n",
      " 0   plataforma  318190 non-null  object\n",
      " 1   postagem    318190 non-null  object\n",
      " 2   classe      318190 non-null  object\n",
      "dtypes: object(3)\n",
      "memory usage: 9.7+ MB\n"
     ]
    }
   ],
   "source": [
    "df_raw.info()"
   ]
  },
  {
   "cell_type": "code",
   "execution_count": 69,
   "metadata": {},
   "outputs": [],
   "source": [
    "# remove NA values\n",
    "# df_raw_SAMPLE = df_raw_SAMPLE[df_raw_SAMPLE['postagem'] != '']\n",
    "# df_raw_SAMPLE.head()\n"
   ]
  },
  {
   "cell_type": "code",
   "execution_count": 70,
   "metadata": {},
   "outputs": [
    {
     "name": "stdout",
     "output_type": "stream",
     "text": [
      "<class 'pandas.core.frame.DataFrame'>\n",
      "Index: 13300 entries, 13780 to 24399\n",
      "Data columns (total 3 columns):\n",
      " #   Column      Non-Null Count  Dtype \n",
      "---  ------      --------------  ----- \n",
      " 0   plataforma  13300 non-null  object\n",
      " 1   postagem    13300 non-null  object\n",
      " 2   classe      13300 non-null  object\n",
      "dtypes: object(3)\n",
      "memory usage: 415.6+ KB\n"
     ]
    }
   ],
   "source": [
    "df_raw_SAMPLE.info()"
   ]
  },
  {
   "cell_type": "code",
   "execution_count": 71,
   "metadata": {},
   "outputs": [
    {
     "data": {
      "image/png": "[encoded data removed]",
      "text/plain": [
       "<Figure size 640x480 with 1 Axes>"
      ]
     },
     "metadata": {},
     "output_type": "display_data"
    }
   ],
   "source": [
    "# frequence count of each social media platform\n",
    "\n",
    "plt.hist(df_raw_SAMPLE[\"plataforma\"])\n",
    "plt.show()"
   ]
  },
  {
   "cell_type": "code",
   "execution_count": 72,
   "metadata": {},
   "outputs": [
    {
     "data": {
      "text/plain": [
       "plataforma\n",
       "instagram    7271\n",
       "facebook     4553\n",
       "twitter      1476\n",
       "Name: count, dtype: int64"
      ]
     },
     "execution_count": 72,
     "metadata": {},
     "output_type": "execute_result"
    }
   ],
   "source": [
    "df_raw_SAMPLE['plataforma'].value_counts()"
   ]
  },
  {
   "cell_type": "code",
   "execution_count": 73,
   "metadata": {},
   "outputs": [
    {
     "data": {
      "text/plain": [
       "classe\n",
       "neutro      6164\n",
       "positivo    4470\n",
       "negativo    2666\n",
       "Name: count, dtype: int64"
      ]
     },
     "execution_count": 73,
     "metadata": {},
     "output_type": "execute_result"
    }
   ],
   "source": [
    "df_raw_SAMPLE['classe'].value_counts()"
   ]
  },
  {
   "cell_type": "code",
   "execution_count": 74,
   "metadata": {},
   "outputs": [
    {
     "data": {
      "image/png": "[encoded data removed]",
      "text/plain": [
       "<Figure size 640x480 with 1 Axes>"
      ]
     },
     "metadata": {},
     "output_type": "display_data"
    }
   ],
   "source": [
    "# relative frequence of each sentiment class\n",
    "\n",
    "class_counts = df_raw_SAMPLE['classe'].value_counts()\n",
    "total_classes = len(df_raw_SAMPLE['classe'])\n",
    "\n",
    "# Calculate the percentages\n",
    "percentages = [count / total_classes * 100 for count in class_counts]\n",
    "\n",
    "fig, ax = plt.subplots()\n",
    "wedges, texts, autotexts = ax.pie(percentages,\n",
    "                                  labels=class_counts.index,\n",
    "                                  autopct=\"%1.1f%%\",\n",
    "                                  startangle=-70,\n",
    "                                  wedgeprops=dict(width=0.3))\n",
    "\n",
    "# Add a white circle in the middle\n",
    "centre_circle = plt.Circle((0, 0), 0.70, fc='white')\n",
    "fig.gca().add_artist(centre_circle)\n",
    "\n",
    "# Equal aspect ratio ensures a circular pie chart\n",
    "ax.axis('equal')\n",
    "\n",
    "# Display the pie chart\n",
    "plt.tight_layout()\n",
    "plt.show()"
   ]
  },
  {
   "cell_type": "code",
   "execution_count": 75,
   "metadata": {},
   "outputs": [
    {
     "data": {
      "image/png": "[encoded data removed]",
      "text/plain": [
       "<Figure size 640x480 with 1 Axes>"
      ]
     },
     "metadata": {},
     "output_type": "display_data"
    }
   ],
   "source": [
    "# Create a bar chart\n",
    "plt.bar(class_counts.index, percentages)\n",
    "\n",
    "# Add labels and title\n",
    "plt.ylabel('% of Values')\n",
    "plt.title('Percentage of Values in Column')\n",
    "\n",
    "# Show the plot\n",
    "plt.show()\n"
   ]
  },
  {
   "cell_type": "markdown",
   "metadata": {},
   "source": [
    "## 2.2 Describe Data <a class=\"anchor\" id=\"Describedata\"></a>\n",
    "Data description report - Describe the data that has been acquired including its format, its quantity (for example, the number of records and fields in each table), the identities of the fields and any other surface features which have been discovered. Evaluate whether the data acquired satisfies your requirements."
   ]
  },
  {
   "cell_type": "markdown",
   "metadata": {},
   "source": [
    "First glance at the train set: head and tail"
   ]
  },
  {
   "cell_type": "code",
   "execution_count": 76,
   "metadata": {
    "jupyter": {
     "outputs_hidden": true
    }
   },
   "outputs": [],
   "source": [
    "df_raw_SAMPLE_emojis = df_raw_SAMPLE[df_raw_SAMPLE['postagem'].str.contains(r'[\\u263a-\\U0001f645]')].sample(n=10)"
   ]
  },
  {
   "cell_type": "code",
   "execution_count": 77,
   "metadata": {
    "jupyter": {
     "outputs_hidden": true
    }
   },
   "outputs": [
    {
     "data": {
      "text/html": [
       "<div>\n",
       "<style scoped>\n",
       "    .dataframe tbody tr th:only-of-type {\n",
       "        vertical-align: middle;\n",
       "    }\n",
       "\n",
       "    .dataframe tbody tr th {\n",
       "        vertical-align: top;\n",
       "    }\n",
       "\n",
       "    .dataframe thead th {\n",
       "        text-align: right;\n",
       "    }\n",
       "</style>\n",
       "<table border=\"1\" class=\"dataframe\">\n",
       "  <thead>\n",
       "    <tr style=\"text-align: right;\">\n",
       "      <th></th>\n",
       "      <th>plataforma</th>\n",
       "      <th>postagem</th>\n",
       "      <th>classe</th>\n",
       "    </tr>\n",
       "  </thead>\n",
       "  <tbody>\n",
       "    <tr>\n",
       "      <th>count</th>\n",
       "      <td>10</td>\n",
       "      <td>10</td>\n",
       "      <td>10</td>\n",
       "    </tr>\n",
       "    <tr>\n",
       "      <th>unique</th>\n",
       "      <td>2</td>\n",
       "      <td>9</td>\n",
       "      <td>3</td>\n",
       "    </tr>\n",
       "    <tr>\n",
       "      <th>top</th>\n",
       "      <td>instagram</td>\n",
       "      <td>❤️</td>\n",
       "      <td>positivo</td>\n",
       "    </tr>\n",
       "    <tr>\n",
       "      <th>freq</th>\n",
       "      <td>6</td>\n",
       "      <td>2</td>\n",
       "      <td>7</td>\n",
       "    </tr>\n",
       "  </tbody>\n",
       "</table>\n",
       "</div>"
      ],
      "text/plain": [
       "       plataforma postagem    classe\n",
       "count          10       10        10\n",
       "unique          2        9         3\n",
       "top     instagram       ❤️  positivo\n",
       "freq            6        2         7"
      ]
     },
     "execution_count": 77,
     "metadata": {},
     "output_type": "execute_result"
    }
   ],
   "source": [
    "# df_raw_SAMPLE_emojis.reset_index(drop=True)\n",
    "df_raw_SAMPLE_emojis.describe()"
   ]
  },
  {
   "cell_type": "markdown",
   "metadata": {},
   "source": [
    "## 2.3 Verify Data Quality <a class=\"anchor\" id=\"Verifydataquality\"></a>\n",
    "\n",
    "Examine the quality of the data, addressing questions such as:\n",
    "\n",
    "- Is the data complete (does it cover all the cases required)?\n",
    "- Is it correct, or does it contain errors and, if there are errors, how common are they?\n",
    "- Are there missing values in the data? If so, how are they represented, where do they occur, and how common are they?"
   ]
  },
  {
   "cell_type": "markdown",
   "metadata": {},
   "source": [
    "### 2.3.1. Missing Data <a class=\"anchor\" id=\"MissingData\"></a>\n",
    "In addition to incorrect datatypes, another common problem when dealing with real-world data is missing values. These can arise for many reasons and have to be either filled in or removed before we train a machine learning model. First, let’s get a sense of how many missing values are in each column \n",
    "\n",
    "While we always want to be careful about removing information, if a column has a high percentage of missing values, then it probably will not be useful to our model. The threshold for removing columns should depend on the problem"
   ]
  },
  {
   "cell_type": "code",
   "execution_count": 78,
   "metadata": {},
   "outputs": [
    {
     "ename": "NameError",
     "evalue": "name 'train' is not defined",
     "output_type": "error",
     "traceback": [
      "\u001b[1;31m---------------------------------------------------------------------------\u001b[0m",
      "\u001b[1;31mNameError\u001b[0m                                 Traceback (most recent call last)",
      "Cell \u001b[1;32mIn[78], line 2\u001b[0m\n\u001b[0;32m      1\u001b[0m \u001b[38;5;66;03m# check nan\u001b[39;00m\n\u001b[1;32m----> 2\u001b[0m \u001b[43mtrain\u001b[49m\u001b[38;5;241m.\u001b[39misnull()\u001b[38;5;241m.\u001b[39msum()\n",
      "\u001b[1;31mNameError\u001b[0m: name 'train' is not defined"
     ]
    }
   ],
   "source": [
    "# check nan\n",
    "train.isnull().sum()"
   ]
  },
  {
   "cell_type": "code",
   "execution_count": 79,
   "metadata": {},
   "outputs": [
    {
     "ename": "NameError",
     "evalue": "name 'Test' is not defined",
     "output_type": "error",
     "traceback": [
      "\u001b[1;31m---------------------------------------------------------------------------\u001b[0m",
      "\u001b[1;31mNameError\u001b[0m                                 Traceback (most recent call last)",
      "Cell \u001b[1;32mIn[79], line 1\u001b[0m\n\u001b[1;32m----> 1\u001b[0m \u001b[43mTest\u001b[49m\u001b[38;5;241m.\u001b[39misnull()\u001b[38;5;241m.\u001b[39msum()\n",
      "\u001b[1;31mNameError\u001b[0m: name 'Test' is not defined"
     ]
    }
   ],
   "source": [
    "Test.isnull().sum()"
   ]
  },
  {
   "cell_type": "markdown",
   "metadata": {},
   "source": [
    "### 2.3.3. Data Quality Report <a class=\"anchor\" id=\"DataQualityReport\"></a>"
   ]
  },
  {
   "cell_type": "markdown",
   "metadata": {},
   "source": [
    "Findings\n",
    "    \n",
    "* No major data quality problems were detected\n",
    "* No outliers were detected \n",
    "* In the Stores dataset, the NaN values in the column of the competitor stores were replaced with the mode that is half of the average. This is consider a cautious approximation\n",
    "\n"
   ]
  },
  {
   "cell_type": "markdown",
   "metadata": {},
   "source": [
    "## 2.4 Initial Data Exploration  <a class=\"anchor\" id=\"Exploredata\"></a>\n",
    "During this stage you'll address data mining questions using querying, data visualization and reporting techniques. These may include:\n",
    "\n",
    "- **Distribution** of key attributes (for example, the target attribute of a prediction task)\n",
    "- **Relationships** between pairs or small numbers of attributes\n",
    "- Results of **simple aggregations**\n",
    "- **Properties** of significant sub-populations\n",
    "- **Simple** statistical analyses\n",
    "\n",
    "These analyses may directly address your data mining goals. They may also contribute to or refine the data description and quality reports, and feed into the transformation and other data preparation steps needed for further analysis. \n",
    "\n",
    "- **Data exploration report** - Describe results of your data exploration, including first findings or initial hypothesis and their impact on the remainder of the project. If appropriate you could include graphs and plots here to indicate data characteristics that suggest further examination of interesting data subsets."
   ]
  },
  {
   "cell_type": "markdown",
   "metadata": {},
   "source": [
    "### Additional information about the stores"
   ]
  },
  {
   "cell_type": "code",
   "execution_count": 80,
   "metadata": {},
   "outputs": [],
   "source": [
    "nlp = spacy.load('pt_core_news_lg')"
   ]
  },
  {
   "cell_type": "markdown",
   "metadata": {},
   "source": [
    "\n",
    "\n",
    "* Store: a unique Id for each store\n",
    "* StoreType: differentiates between 4 different store models: a, b, c, d\n",
    "* Assortment: describes an assortment level: a = basic, b = extra, c = extended\n",
    "* CompetitionDistance: distance in meters to the nearest competitor store\n",
    "* CompetitionOpenSince[Month/Year]: gives the approximate year and month of the time the nearest competitor was opened\n",
    "* Promo2: Promo2 is a continuing a promotion for some stores: 0 = store is not participating, 1 = store is participating\n",
    "* Promo2Since[Year/Week]: describes the year and calendar week when the store started participating in Promo2\n",
    "* PromoInterval: describes the consecutive intervals Promo2 is started, naming the months the promotion is started. E.g. \"Feb,May,Aug,Nov\" means each round starts in February, May, August, November of any given year for that store"
   ]
  },
  {
   "cell_type": "markdown",
   "metadata": {},
   "source": [
    "### 2.4.1 Distributions  <a class=\"anchor\" id=\"Distributions\"></a>"
   ]
  },
  {
   "cell_type": "markdown",
   "metadata": {},
   "source": [
    "## 2.5 Data Exploration Report <a class=\"anchor\" id=\"IDataExplorationReport\"></a>"
   ]
  },
  {
   "cell_type": "markdown",
   "metadata": {},
   "source": [
    "Describe results of this task, including:\n",
    "\n",
    "* First findings or initial hypothesis and their impact on the remainder of the project\n",
    "* If appropriate, include graphs and plots"
   ]
  },
  {
   "cell_type": "markdown",
   "metadata": {},
   "source": [
    "***"
   ]
  },
  {
   "cell_type": "markdown",
   "metadata": {},
   "source": [
    "# 3. Stage Three - Data Preperation <a class=\"anchor\" id=\"Datapreperation2\"></a>\n",
    "This is the stage of the project where you decide on the data that you're going to use for analysis. The criteria you might use to make this decision include the relevance of the data to your data mining goals, the quality of the data, and also technical constraints such as limits on data volume or data types. Note that data selection covers selection of attributes (columns) as well as selection of records (rows) in a table."
   ]
  },
  {
   "cell_type": "markdown",
   "metadata": {},
   "source": [
    "![](assets/3.JPG)"
   ]
  },
  {
   "cell_type": "markdown",
   "metadata": {},
   "source": [
    "## 3.1 Select Your Data <a class=\"anchor\" id=\"Selectyourdata\"></a>\n",
    "\n",
    "* The data selected for the modelling is the one is provided by the platform Kaggle.com \n",
    "\n",
    "* The 3 datasets provided were the only ones used for the modelling. \n",
    "\n",
    "* The data was already spited into Train and Test.\n",
    "\n"
   ]
  },
  {
   "cell_type": "markdown",
   "metadata": {},
   "source": [
    "## 3.2 Clean The Data <a class=\"anchor\" id=\"Cleansethedata\"></a>\n",
    "This task involves raise the data quality to the level required by the analysis techniques that you've selected. This may involve selecting clean subsets of the data, the insertion of suitable defaults, or more ambitious techniques such as the estimation of missing data by modelling."
   ]
  },
  {
   "cell_type": "code",
   "execution_count": 81,
   "metadata": {},
   "outputs": [
    {
     "data": {
      "text/plain": [
       "13780                                                    ❤️\n",
       "8232                                                     ❤️\n",
       "59042     bom dia pessoal! aonde envio as notas fiscais?...\n",
       "28986                                 e embaixo congela bem\n",
       "4203      o problema é no site de vocês e app para compr...\n",
       "                                ...                        \n",
       "206453                      brastemp  aguardando a resposta\n",
       "160898        boa noite, vou procurar o dados dessa visita.\n",
       "10175                                                     ?\n",
       "95665                                                   ooi\n",
       "24399                                       deixei lembrete\n",
       "Name: postagem, Length: 13300, dtype: object"
      ]
     },
     "execution_count": 81,
     "metadata": {},
     "output_type": "execute_result"
    }
   ],
   "source": [
    "df_raw_SAMPLE['postagem']"
   ]
  },
  {
   "cell_type": "markdown",
   "metadata": {},
   "source": []
  },
  {
   "cell_type": "code",
   "execution_count": 84,
   "metadata": {},
   "outputs": [],
   "source": [
    "df_raw_SAMPLE['postagem'] = df_raw_SAMPLE['postagem'].apply(remove_usernames)\n",
    "df_raw_SAMPLE['postagem'] = df_raw_SAMPLE['postagem'].apply(remove_urls)\n",
    "df_raw_SAMPLE['postagem'] = df_raw_SAMPLE['postagem'].apply(remove_hashtags)\n",
    "df_raw_SAMPLE['postagem'] = df_raw_SAMPLE['postagem'].apply(remove_new_lines_char)\n",
    "df_raw_SAMPLE['postagem'] = df_raw_SAMPLE['postagem'].apply(remove_non_alphabets)"
   ]
  },
  {
   "cell_type": "code",
   "execution_count": null,
   "metadata": {},
   "outputs": [],
   "source": [
    "# pd.set_option('display.max_colwidth', None)"
   ]
  },
  {
   "cell_type": "code",
   "execution_count": 85,
   "metadata": {},
   "outputs": [
    {
     "data": {
      "text/html": [
       "<div>\n",
       "<style scoped>\n",
       "    .dataframe tbody tr th:only-of-type {\n",
       "        vertical-align: middle;\n",
       "    }\n",
       "\n",
       "    .dataframe tbody tr th {\n",
       "        vertical-align: top;\n",
       "    }\n",
       "\n",
       "    .dataframe thead th {\n",
       "        text-align: right;\n",
       "    }\n",
       "</style>\n",
       "<table border=\"1\" class=\"dataframe\">\n",
       "  <thead>\n",
       "    <tr style=\"text-align: right;\">\n",
       "      <th></th>\n",
       "      <th>plataforma</th>\n",
       "      <th>postagem</th>\n",
       "      <th>classe</th>\n",
       "    </tr>\n",
       "  </thead>\n",
       "  <tbody>\n",
       "    <tr>\n",
       "      <th>13780</th>\n",
       "      <td>instagram</td>\n",
       "      <td></td>\n",
       "      <td>positivo</td>\n",
       "    </tr>\n",
       "    <tr>\n",
       "      <th>8232</th>\n",
       "      <td>instagram</td>\n",
       "      <td></td>\n",
       "      <td>positivo</td>\n",
       "    </tr>\n",
       "    <tr>\n",
       "      <th>59042</th>\n",
       "      <td>instagram</td>\n",
       "      <td>bom dia pessoal aonde envio as notas fiscais o...</td>\n",
       "      <td>neutro</td>\n",
       "    </tr>\n",
       "    <tr>\n",
       "      <th>28986</th>\n",
       "      <td>facebook</td>\n",
       "      <td>e embaixo congela bem</td>\n",
       "      <td>neutro</td>\n",
       "    </tr>\n",
       "    <tr>\n",
       "      <th>4203</th>\n",
       "      <td>instagram</td>\n",
       "      <td>o problema é no site de vocês e app para compr...</td>\n",
       "      <td>neutro</td>\n",
       "    </tr>\n",
       "  </tbody>\n",
       "</table>\n",
       "</div>"
      ],
      "text/plain": [
       "      plataforma                                           postagem    classe\n",
       "13780  instagram                                                     positivo\n",
       "8232   instagram                                                     positivo\n",
       "59042  instagram  bom dia pessoal aonde envio as notas fiscais o...    neutro\n",
       "28986   facebook                              e embaixo congela bem    neutro\n",
       "4203   instagram  o problema é no site de vocês e app para compr...    neutro"
      ]
     },
     "execution_count": 85,
     "metadata": {},
     "output_type": "execute_result"
    }
   ],
   "source": [
    "df_raw_SAMPLE = df_raw_SAMPLE[df_raw_SAMPLE['postagem'] != '']\n",
    "df_raw_SAMPLE['postagem'] = df_raw_SAMPLE['postagem'].str.strip()\n",
    "df_raw_SAMPLE.dropna()\n",
    "df_raw_SAMPLE.head()"
   ]
  },
  {
   "cell_type": "code",
   "execution_count": 86,
   "metadata": {},
   "outputs": [
    {
     "name": "stdout",
     "output_type": "stream",
     "text": [
      "<class 'pandas.core.frame.DataFrame'>\n",
      "Index: 12232 entries, 13780 to 24399\n",
      "Data columns (total 3 columns):\n",
      " #   Column      Non-Null Count  Dtype \n",
      "---  ------      --------------  ----- \n",
      " 0   plataforma  12232 non-null  object\n",
      " 1   postagem    12232 non-null  object\n",
      " 2   classe      12232 non-null  object\n",
      "dtypes: object(3)\n",
      "memory usage: 382.2+ KB\n"
     ]
    }
   ],
   "source": [
    "df_raw_SAMPLE.info()"
   ]
  },
  {
   "cell_type": "markdown",
   "metadata": {},
   "source": [
    "### 3.2.1 Label Encoding <a class=\"anchor\" id=\"labelEncoding\"></a>\n",
    "Label Encoding to turn Categorical values to Integers\n",
    "\n"
   ]
  },
  {
   "cell_type": "code",
   "execution_count": 87,
   "metadata": {},
   "outputs": [
    {
     "data": {
      "text/html": [
       "<div>\n",
       "<style scoped>\n",
       "    .dataframe tbody tr th:only-of-type {\n",
       "        vertical-align: middle;\n",
       "    }\n",
       "\n",
       "    .dataframe tbody tr th {\n",
       "        vertical-align: top;\n",
       "    }\n",
       "\n",
       "    .dataframe thead th {\n",
       "        text-align: right;\n",
       "    }\n",
       "</style>\n",
       "<table border=\"1\" class=\"dataframe\">\n",
       "  <thead>\n",
       "    <tr style=\"text-align: right;\">\n",
       "      <th></th>\n",
       "      <th>plataforma</th>\n",
       "      <th>postagem</th>\n",
       "      <th>classe</th>\n",
       "    </tr>\n",
       "  </thead>\n",
       "  <tbody>\n",
       "    <tr>\n",
       "      <th>13780</th>\n",
       "      <td>instagram</td>\n",
       "      <td></td>\n",
       "      <td>1</td>\n",
       "    </tr>\n",
       "    <tr>\n",
       "      <th>8232</th>\n",
       "      <td>instagram</td>\n",
       "      <td></td>\n",
       "      <td>1</td>\n",
       "    </tr>\n",
       "    <tr>\n",
       "      <th>59042</th>\n",
       "      <td>instagram</td>\n",
       "      <td>bom dia pessoal aonde envio as notas fiscais o...</td>\n",
       "      <td>0</td>\n",
       "    </tr>\n",
       "    <tr>\n",
       "      <th>28986</th>\n",
       "      <td>facebook</td>\n",
       "      <td>e embaixo congela bem</td>\n",
       "      <td>0</td>\n",
       "    </tr>\n",
       "    <tr>\n",
       "      <th>4203</th>\n",
       "      <td>instagram</td>\n",
       "      <td>o problema é no site de vocês e app para compr...</td>\n",
       "      <td>0</td>\n",
       "    </tr>\n",
       "  </tbody>\n",
       "</table>\n",
       "</div>"
      ],
      "text/plain": [
       "      plataforma                                           postagem  classe\n",
       "13780  instagram                                                          1\n",
       "8232   instagram                                                          1\n",
       "59042  instagram  bom dia pessoal aonde envio as notas fiscais o...       0\n",
       "28986   facebook                              e embaixo congela bem       0\n",
       "4203   instagram  o problema é no site de vocês e app para compr...       0"
      ]
     },
     "execution_count": 87,
     "metadata": {},
     "output_type": "execute_result"
    }
   ],
   "source": [
    "df_raw_SAMPLE = df_raw_SAMPLE.replace({'classe': {'positivo' : 1, \n",
    "                                                    'neutro' : 0, \n",
    "                                                    'negativo' : -1}})\n",
    "df_raw_SAMPLE.head()"
   ]
  },
  {
   "cell_type": "code",
   "execution_count": 88,
   "metadata": {},
   "outputs": [
    {
     "data": {
      "text/plain": [
       "plataforma  postagem                                                                                                                                                                                                                                                                                                                                                                                                               classe\n",
       "facebook                                                                                                                                                                                                                                                                                                                                                                                                                           -1        1\n",
       "instagram   não quero mais ir lá quero poder comprar uma nova obrigada                                                                                                                                                                                                                                                                                                                                                              1        1\n",
       "            não por vocês voce está sendo otima                                                                                                                                                                                                                                                                                                                                                                                     0        1\n",
       "            não posso ficar nesse prejuízo                                                                                                                                                                                                                                                                                                                                                                                          0        1\n",
       "            não posso ficar sem usá la tenho criança e mora muita gente aqui em casa                                                                                                                                                                                                                                                                                                                                                0        1\n",
       "                                                                                                                                                                                                                                                                                                                                                                                                                                            ..\n",
       "facebook    teresa santos ok                                                                                                                                                                                                                                                                                                                                                                                                        1        1\n",
       "            terezinha conforme conversamos às através do telefone o desconto é de o mesmo é calculado conforme o tempo do seu produto como você informou que no momento não tem interesse em seguir com o projeto renova estamos encerrando o acompanhamento e nos mantemos à disposição a nossa proposta é válida por dias não posso comprar outro agora o fogao está ótimo o que falta é as trocas das valvula agora se explodi   0        1\n",
       "            terezinha madeira infelizmente muitas pessoas ultimamente falando que a brastemp tem necessitado de assistência não sei se é uma boa as brastemp ainda meu micro ondas por exemplo troquei por um brastemp nossa me arrependi muito menos de um ano paguei caro tá muito ruim                                                                                                                                          -1        1\n",
       "            teriam máquina de lavar promoção                                                                                                                                                                                                                                                                                                                                                                                        1        1\n",
       "twitter     último contato seus comigo foi dia às estou sendo enrolado                                                                                                                                                                                                                                                                                                                                                             -1        1\n",
       "Name: count, Length: 10029, dtype: int64"
      ]
     },
     "execution_count": 88,
     "metadata": {},
     "output_type": "execute_result"
    }
   ],
   "source": [
    "df_raw_SAMPLE = df_raw_SAMPLE[~df_raw_SAMPLE['postagem'].str.contains('get started')]\n",
    "df_raw_SAMPLE.drop_duplicates(keep='first',inplace=True)\n",
    "df_raw_SAMPLE.value_counts()"
   ]
  },
  {
   "cell_type": "code",
   "execution_count": 90,
   "metadata": {},
   "outputs": [
    {
     "data": {
      "text/html": [
       "<div>\n",
       "<style scoped>\n",
       "    .dataframe tbody tr th:only-of-type {\n",
       "        vertical-align: middle;\n",
       "    }\n",
       "\n",
       "    .dataframe tbody tr th {\n",
       "        vertical-align: top;\n",
       "    }\n",
       "\n",
       "    .dataframe thead th {\n",
       "        text-align: right;\n",
       "    }\n",
       "</style>\n",
       "<table border=\"1\" class=\"dataframe\">\n",
       "  <thead>\n",
       "    <tr style=\"text-align: right;\">\n",
       "      <th></th>\n",
       "      <th>plataforma</th>\n",
       "      <th>postagem</th>\n",
       "      <th>classe</th>\n",
       "    </tr>\n",
       "  </thead>\n",
       "  <tbody>\n",
       "    <tr>\n",
       "      <th>13780</th>\n",
       "      <td>instagram</td>\n",
       "      <td></td>\n",
       "      <td>1</td>\n",
       "    </tr>\n",
       "    <tr>\n",
       "      <th>59042</th>\n",
       "      <td>instagram</td>\n",
       "      <td>bom dia pessoal aonde envio as notas fiscais o...</td>\n",
       "      <td>0</td>\n",
       "    </tr>\n",
       "    <tr>\n",
       "      <th>28986</th>\n",
       "      <td>facebook</td>\n",
       "      <td>e embaixo congela bem</td>\n",
       "      <td>0</td>\n",
       "    </tr>\n",
       "    <tr>\n",
       "      <th>4203</th>\n",
       "      <td>instagram</td>\n",
       "      <td>o problema é no site de vocês e app para compr...</td>\n",
       "      <td>0</td>\n",
       "    </tr>\n",
       "    <tr>\n",
       "      <th>147846</th>\n",
       "      <td>twitter</td>\n",
       "      <td>não precisa de visita técnica só quero comprar...</td>\n",
       "      <td>0</td>\n",
       "    </tr>\n",
       "  </tbody>\n",
       "</table>\n",
       "</div>"
      ],
      "text/plain": [
       "       plataforma                                           postagem  classe\n",
       "13780   instagram                                                          1\n",
       "59042   instagram  bom dia pessoal aonde envio as notas fiscais o...       0\n",
       "28986    facebook                              e embaixo congela bem       0\n",
       "4203    instagram  o problema é no site de vocês e app para compr...       0\n",
       "147846    twitter  não precisa de visita técnica só quero comprar...       0"
      ]
     },
     "execution_count": 90,
     "metadata": {},
     "output_type": "execute_result"
    }
   ],
   "source": [
    "df_raw_SAMPLE['postagem'] = df_raw_SAMPLE['postagem'].apply(tokenize)\n",
    "df_raw_SAMPLE.head()"
   ]
  },
  {
   "cell_type": "code",
   "execution_count": 91,
   "metadata": {},
   "outputs": [
    {
     "data": {
      "text/html": [
       "<div>\n",
       "<style scoped>\n",
       "    .dataframe tbody tr th:only-of-type {\n",
       "        vertical-align: middle;\n",
       "    }\n",
       "\n",
       "    .dataframe tbody tr th {\n",
       "        vertical-align: top;\n",
       "    }\n",
       "\n",
       "    .dataframe thead th {\n",
       "        text-align: right;\n",
       "    }\n",
       "</style>\n",
       "<table border=\"1\" class=\"dataframe\">\n",
       "  <thead>\n",
       "    <tr style=\"text-align: right;\">\n",
       "      <th></th>\n",
       "      <th>plataforma</th>\n",
       "      <th>postagem</th>\n",
       "      <th>classe</th>\n",
       "      <th>tokens</th>\n",
       "    </tr>\n",
       "  </thead>\n",
       "  <tbody>\n",
       "    <tr>\n",
       "      <th>13780</th>\n",
       "      <td>instagram</td>\n",
       "      <td></td>\n",
       "      <td>1</td>\n",
       "      <td></td>\n",
       "    </tr>\n",
       "    <tr>\n",
       "      <th>59042</th>\n",
       "      <td>instagram</td>\n",
       "      <td>bom dia pessoal aonde envio as notas fiscais o...</td>\n",
       "      <td>0</td>\n",
       "      <td>dia pessoal aonde envio notas fiscais</td>\n",
       "    </tr>\n",
       "    <tr>\n",
       "      <th>28986</th>\n",
       "      <td>facebook</td>\n",
       "      <td>e embaixo congela bem</td>\n",
       "      <td>0</td>\n",
       "      <td>embaixo congela</td>\n",
       "    </tr>\n",
       "    <tr>\n",
       "      <th>4203</th>\n",
       "      <td>instagram</td>\n",
       "      <td>o problema é no site de vocês e app para compr...</td>\n",
       "      <td>0</td>\n",
       "      <td>problema site app comprar produtos</td>\n",
       "    </tr>\n",
       "    <tr>\n",
       "      <th>147846</th>\n",
       "      <td>twitter</td>\n",
       "      <td>não precisa de visita técnica só quero comprar...</td>\n",
       "      <td>0</td>\n",
       "      <td>precisa visita técnica comprar botão máquina</td>\n",
       "    </tr>\n",
       "  </tbody>\n",
       "</table>\n",
       "</div>"
      ],
      "text/plain": [
       "       plataforma                                           postagem  classe  \\\n",
       "13780   instagram                                                          1   \n",
       "59042   instagram  bom dia pessoal aonde envio as notas fiscais o...       0   \n",
       "28986    facebook                              e embaixo congela bem       0   \n",
       "4203    instagram  o problema é no site de vocês e app para compr...       0   \n",
       "147846    twitter  não precisa de visita técnica só quero comprar...       0   \n",
       "\n",
       "                                              tokens  \n",
       "13780                                                 \n",
       "59042          dia pessoal aonde envio notas fiscais  \n",
       "28986                                embaixo congela  \n",
       "4203              problema site app comprar produtos  \n",
       "147846  precisa visita técnica comprar botão máquina  "
      ]
     },
     "execution_count": 91,
     "metadata": {},
     "output_type": "execute_result"
    }
   ],
   "source": [
    "df_raw_SAMPLE['tokens'] = df_raw_SAMPLE['postagem'].apply(remove_stopwords)\n",
    "df_raw_SAMPLE.head()"
   ]
  },
  {
   "cell_type": "code",
   "execution_count": 94,
   "metadata": {},
   "outputs": [
    {
     "data": {
      "text/html": [
       "<div>\n",
       "<style scoped>\n",
       "    .dataframe tbody tr th:only-of-type {\n",
       "        vertical-align: middle;\n",
       "    }\n",
       "\n",
       "    .dataframe tbody tr th {\n",
       "        vertical-align: top;\n",
       "    }\n",
       "\n",
       "    .dataframe thead th {\n",
       "        text-align: right;\n",
       "    }\n",
       "</style>\n",
       "<table border=\"1\" class=\"dataframe\">\n",
       "  <thead>\n",
       "    <tr style=\"text-align: right;\">\n",
       "      <th></th>\n",
       "      <th>plataforma</th>\n",
       "      <th>postagem</th>\n",
       "      <th>classe</th>\n",
       "      <th>tokens</th>\n",
       "      <th>lemma</th>\n",
       "    </tr>\n",
       "  </thead>\n",
       "  <tbody>\n",
       "    <tr>\n",
       "      <th>13780</th>\n",
       "      <td>instagram</td>\n",
       "      <td></td>\n",
       "      <td>1</td>\n",
       "      <td></td>\n",
       "      <td></td>\n",
       "    </tr>\n",
       "    <tr>\n",
       "      <th>59042</th>\n",
       "      <td>instagram</td>\n",
       "      <td>bom dia pessoal aonde envio as notas fiscais o...</td>\n",
       "      <td>0</td>\n",
       "      <td>dia pessoal aonde envio notas fiscais</td>\n",
       "      <td>dia pessoal aonde envio nota fiscal</td>\n",
       "    </tr>\n",
       "    <tr>\n",
       "      <th>28986</th>\n",
       "      <td>facebook</td>\n",
       "      <td>e embaixo congela bem</td>\n",
       "      <td>0</td>\n",
       "      <td>embaixo congela</td>\n",
       "      <td>embaixo congelar</td>\n",
       "    </tr>\n",
       "    <tr>\n",
       "      <th>4203</th>\n",
       "      <td>instagram</td>\n",
       "      <td>o problema é no site de vocês e app para compr...</td>\n",
       "      <td>0</td>\n",
       "      <td>problema site app comprar produtos</td>\n",
       "      <td>problema site app comprar produto</td>\n",
       "    </tr>\n",
       "    <tr>\n",
       "      <th>147846</th>\n",
       "      <td>twitter</td>\n",
       "      <td>não precisa de visita técnica só quero comprar...</td>\n",
       "      <td>0</td>\n",
       "      <td>precisa visita técnica comprar botão máquina</td>\n",
       "      <td>precisar visita técnico comprar botão máquina</td>\n",
       "    </tr>\n",
       "  </tbody>\n",
       "</table>\n",
       "</div>"
      ],
      "text/plain": [
       "       plataforma                                           postagem  classe  \\\n",
       "13780   instagram                                                          1   \n",
       "59042   instagram  bom dia pessoal aonde envio as notas fiscais o...       0   \n",
       "28986    facebook                              e embaixo congela bem       0   \n",
       "4203    instagram  o problema é no site de vocês e app para compr...       0   \n",
       "147846    twitter  não precisa de visita técnica só quero comprar...       0   \n",
       "\n",
       "                                              tokens  \\\n",
       "13780                                                  \n",
       "59042          dia pessoal aonde envio notas fiscais   \n",
       "28986                                embaixo congela   \n",
       "4203              problema site app comprar produtos   \n",
       "147846  precisa visita técnica comprar botão máquina   \n",
       "\n",
       "                                                lemma  \n",
       "13780                                                  \n",
       "59042             dia pessoal aonde envio nota fiscal  \n",
       "28986                                embaixo congelar  \n",
       "4203                problema site app comprar produto  \n",
       "147846  precisar visita técnico comprar botão máquina  "
      ]
     },
     "execution_count": 94,
     "metadata": {},
     "output_type": "execute_result"
    }
   ],
   "source": [
    "df_raw_SAMPLE['lemma'] = df_raw_SAMPLE['tokens'].apply(lemmatize)\n",
    "df_raw_SAMPLE.head()\n"
   ]
  },
  {
   "cell_type": "code",
   "execution_count": 112,
   "metadata": {},
   "outputs": [],
   "source": [
    "corpus = df_raw_SAMPLE['lemma']\n",
    "X_BoW = bag_of_words(corpus)"
   ]
  },
  {
   "cell_type": "code",
   "execution_count": 116,
   "metadata": {},
   "outputs": [
    {
     "data": {
      "text/plain": [
       "array([[0, 0, 0, ..., 0, 0, 0],\n",
       "       [0, 0, 0, ..., 0, 0, 0],\n",
       "       [0, 0, 0, ..., 0, 0, 0],\n",
       "       ...,\n",
       "       [0, 0, 0, ..., 0, 0, 0],\n",
       "       [0, 0, 0, ..., 0, 0, 0],\n",
       "       [0, 0, 0, ..., 0, 0, 0]], dtype=int64)"
      ]
     },
     "execution_count": 116,
     "metadata": {},
     "output_type": "execute_result"
    }
   ],
   "source": [
    "X_BoW.toarray()"
   ]
  },
  {
   "cell_type": "code",
   "execution_count": 117,
   "metadata": {},
   "outputs": [
    {
     "name": "stdout",
     "output_type": "stream",
     "text": [
      "  (1, 4123)\t0.4156982899089744\n",
      "  (1, 6707)\t0.37029535321113655\n",
      "  (1, 3523)\t0.47939255806989095\n",
      "  (1, 606)\t0.4835506467782198\n",
      "  (1, 7321)\t0.41421712091942975\n",
      "  (1, 2962)\t0.2342264015045785\n",
      "  (2, 2151)\t0.6753848317617597\n",
      "  (2, 3333)\t0.7374654764978082\n",
      "  (3, 7739)\t0.3717139136511672\n",
      "  (3, 2029)\t0.30120475530635327\n",
      "  (3, 655)\t0.6627360912869112\n",
      "  (3, 8933)\t0.4315131941914137\n",
      "  (3, 7713)\t0.3816827194456709\n",
      "  (4, 6529)\t0.3155960524347138\n",
      "  (4, 1277)\t0.5802486670015532\n",
      "  (4, 9658)\t0.34150861887886896\n",
      "  (4, 9973)\t0.47053642669254914\n",
      "  (4, 7590)\t0.40379311375971677\n",
      "  (4, 2029)\t0.2502580104564751\n",
      "  (5, 8603)\t0.7147204419419081\n",
      "  (5, 5681)\t0.6994102443275787\n",
      "  (6, 6872)\t1.0\n",
      "  (7, 5608)\t0.4693174175707462\n",
      "  (7, 4083)\t0.4267084750638549\n",
      "  (7, 8668)\t0.5816503311738094\n",
      "  :\t:\n",
      "  (10024, 2590)\t0.14500422520268455\n",
      "  (10024, 9266)\t0.2089377068901605\n",
      "  (10024, 3287)\t0.2041819311967354\n",
      "  (10024, 7563)\t0.11612125243235928\n",
      "  (10024, 568)\t0.13547783202811706\n",
      "  (10024, 804)\t0.15325024701375828\n",
      "  (10024, 6037)\t0.18224684875592972\n",
      "  (10024, 5197)\t0.12329681018022833\n",
      "  (10024, 4441)\t0.13773919629539533\n",
      "  (10024, 4444)\t0.11465323667375543\n",
      "  (10024, 4083)\t0.2049265687211192\n",
      "  (10024, 7590)\t0.16528208950598977\n",
      "  (10024, 2029)\t0.20487306729292973\n",
      "  (10024, 2962)\t0.11504689857381656\n",
      "  (10025, 8369)\t0.6918027363699849\n",
      "  (10025, 289)\t0.6339297521711724\n",
      "  (10025, 1307)\t0.3457485260463117\n",
      "  (10026, 9975)\t0.4910487979203631\n",
      "  (10026, 2559)\t0.5274143196690516\n",
      "  (10026, 7732)\t0.4702871931852253\n",
      "  (10026, 5197)\t0.2986277065474154\n",
      "  (10026, 6685)\t0.41274285248468134\n",
      "  (10027, 6896)\t1.0\n",
      "  (10028, 5610)\t0.8638377163069579\n",
      "  (10028, 2662)\t0.503770185586225\n"
     ]
    }
   ],
   "source": [
    "corpus = df_raw_SAMPLE['lemma']\n",
    "X_TF_IDF = tf_idf(corpus)\n",
    "print(X_TF_IDF)"
   ]
  },
  {
   "cell_type": "markdown",
   "metadata": {},
   "source": [
    "<div class=\"alert alert-block alert-success\">\n",
    "No labelling or encoding was necessary.\n",
    "</div>"
   ]
  },
  {
   "cell_type": "markdown",
   "metadata": {},
   "source": [
    "### 3.2.2 Drop Unnecessary Columns <a class=\"anchor\" id=\"DropCols\"></a>\n",
    "Sometimes we may not need certain columns. "
   ]
  },
  {
   "cell_type": "markdown",
   "metadata": {},
   "source": [
    "<div class=\"alert alert-block alert-success\">\n",
    "No column was dropped.\n",
    "</div>"
   ]
  },
  {
   "cell_type": "markdown",
   "metadata": {},
   "source": [
    "### 3.2.3 Altering Data Types <a class=\"anchor\" id=\"AlteringDatatypes\"></a>\n",
    "Sometimes we may need to alter data types. Including to/from object datatypes"
   ]
  },
  {
   "cell_type": "markdown",
   "metadata": {},
   "source": [
    "<div class=\"alert alert-block alert-success\">\n",
    "No data type was changed.\n",
    "</div>"
   ]
  },
  {
   "cell_type": "markdown",
   "metadata": {},
   "source": [
    "### 3.2.4 Dealing With Zeros <a class=\"anchor\" id=\"DealingZeros\"></a>\n",
    "Replacing all the zeros from cols. **Note** You may not want to do this - add / remove as required"
   ]
  },
  {
   "cell_type": "markdown",
   "metadata": {},
   "source": [
    "In point 2.3.1 Missing Data were checked NN and Zeros for the 3 datasets: Train, Test, and Store.\n"
   ]
  },
  {
   "cell_type": "markdown",
   "metadata": {},
   "source": [
    "### 3.2.5 Dealing With Duplicates <a class=\"anchor\" id=\"DealingDuplicates\"></a>\n"
   ]
  },
  {
   "cell_type": "markdown",
   "metadata": {},
   "source": [
    "<div class=\"alert alert-block alert-success\">\n",
    "No duplicates were removed in this analysis.\n",
    "</div>\n"
   ]
  },
  {
   "cell_type": "markdown",
   "metadata": {},
   "source": [
    "## 3.4 Integrate Data  <a class=\"anchor\" id=\"Integratedata\"></a>\n",
    "These are methods whereby information is combined from multiple databases, tables or records to create new records or values.\n",
    "\n",
    "**Merged data** - Merging tables refers to joining together two or more tables that have different information about the same objects. For example a retail chain might have one table with information about each store’s general characteristics (e.g., floor space, type of mall), another table with summarised sales data (e.g., profit, percent change in sales from previous year), and another with information about the demographics of the surrounding area. Each of these tables contains one record for each store. These tables can be merged together into a new table with one record for each store, combining fields from the source tables.\n",
    "\n"
   ]
  },
  {
   "cell_type": "markdown",
   "metadata": {},
   "source": [
    "<div class=\"alert alert-block alert-warning\">\n",
    "<b>Warning:</b> The dataset train.csv and test.csv was join in [2.4] of this document, with \"store.csv\" in the colum [Store].\n",
    "</div>\n"
   ]
  },
  {
   "cell_type": "markdown",
   "metadata": {},
   "source": [
    "\n",
    "**Aggregations** - Aggregations refers to operations in which new values are computed by summarising information from multiple records and/or tables. For example, converting a table of customer purchases where there is one record for each purchase into a new table where there is one record for each customer, with fields such as number of purchases, average purchase amount, percent of orders charged to credit card, percent of items under promotion etc."
   ]
  },
  {
   "cell_type": "markdown",
   "metadata": {},
   "source": [
    "<div class=\"alert alert-block alert-success\">\n",
    "No permanent aggregation were performed in the dataset, only the ones performed for the purpose of visualization.\n",
    "</div>"
   ]
  },
  {
   "cell_type": "markdown",
   "metadata": {},
   "source": [
    "***"
   ]
  },
  {
   "cell_type": "markdown",
   "metadata": {},
   "source": [
    "# 4. Stage Four - Exploratory Data Analysis <a class=\"anchor\" id=\"EDA\"></a>"
   ]
  },
  {
   "cell_type": "markdown",
   "metadata": {},
   "source": [
    "### Conclusion of EDA"
   ]
  },
  {
   "cell_type": "markdown",
   "metadata": {},
   "source": [
    "<div class=\"alert alert-block alert-success\">\n",
    "\n",
    "* The most selling and crowded `StoreType` is A.\n",
    "* The best \"Sale per Customer\" is `StoreType` D, showing the higher Buyer Cart. To benefit from this fact, Rossmann can consider proposing bigger variety of its products.\n",
    "* Low SalePerCustomer amount for `StoreType` B indicates to the possible fact that people shop there essentially for \"small\" things. Eventhough this `StoreType` generated the least amount of sales and customers over the whole period, it shows a great potential.\n",
    "* Customers tends to buy more on Modays when there's one promotion (`Promo`) and on Sundays when there's no promotion at all (both `Promo` and `Promo1` are equal to 0).\n",
    "* `Promo2` alone doesn't seem to be correlated to any significant change in the Sales amount.\n",
    "\n",
    "</div>\n",
    "\n"
   ]
  },
  {
   "cell_type": "markdown",
   "metadata": {},
   "source": [
    "***"
   ]
  },
  {
   "cell_type": "markdown",
   "metadata": {},
   "source": [
    "# 5. Stage Four - Modelling <a class=\"anchor\" id=\"Modelling\"></a>\n",
    "As the first step in modelling, you'll select the actual modelling technique that you'll be using. Although you may have already selected a tool during the business understanding phase, at this stage you'll be selecting the specific modelling technique e.g. decision-tree building with C5.0, or neural network generation with back propagation. If multiple techniques are applied, perform this task separately for each technique.\n",
    "\n"
   ]
  },
  {
   "cell_type": "markdown",
   "metadata": {},
   "source": [
    "![](assets/4.JPG)"
   ]
  },
  {
   "cell_type": "markdown",
   "metadata": {},
   "source": [
    "## 5.1. Modelling technique <a class=\"anchor\" id=\"ModellingTechnique\"></a>\n"
   ]
  },
  {
   "cell_type": "markdown",
   "metadata": {},
   "source": [
    "### Time Series Analysis and Forecasting with Prophet\n",
    "\n",
    "#### Forecasting for the next 6 weeks for the first store\n",
    "\n",
    "The Core Data Science team at Facebook recently published a new procedure for forecasting time series data called Prophet. It is based on an additive model where non-linear trends are fit with yearly and weekly seasonality, plus holidays. It enables performing automated forecasting to individual stores at scale in Python 3."
   ]
  },
  {
   "cell_type": "code",
   "execution_count": 119,
   "metadata": {},
   "outputs": [],
   "source": [
    "# training a BoW model\n",
    "from sklearn.model_selection import train_test_split\n",
    "\n",
    "X_BoW_train, X_BoW_test, y_BoW_train, y_BoW_test = train_test_split(X_BoW, df_raw_SAMPLE['classe'],\n",
    "                                                                    test_size=0.3, random_state = 10)\n",
    "\n",
    "X_TF_IDF_train, X_TF_IDF_test, y_TF_IDF_train, y_TF_IDF_test = train_test_split(X_TF_IDF, df_raw_SAMPLE['classe'],\n",
    "                                                                    test_size=0.3, random_state = 10)\n"
   ]
  },
  {
   "cell_type": "code",
   "execution_count": 120,
   "metadata": {},
   "outputs": [],
   "source": [
    "# importando metricas\n",
    "from sklearn.metrics import accuracy_score, confusion_matrix, f1_score, roc_auc_score"
   ]
  },
  {
   "cell_type": "markdown",
   "metadata": {},
   "source": [
    "\n",
    "#### Modeling Holidays\n",
    "\n",
    "Prophet also allows to model for holidays. The StateHoliday variable in the dataset indicates a state holiday, at which all stores are normally closed. There are also school holidays in the dataset at which ceratin stores are also closing their doors.\n"
   ]
  },
  {
   "cell_type": "code",
   "execution_count": null,
   "metadata": {},
   "outputs": [],
   "source": []
  },
  {
   "cell_type": "markdown",
   "metadata": {},
   "source": [
    "# Bag Of Words"
   ]
  },
  {
   "cell_type": "code",
   "execution_count": 193,
   "metadata": {},
   "outputs": [
    {
     "data": {
      "text/html": [
       "<div>\n",
       "<style scoped>\n",
       "    .dataframe tbody tr th:only-of-type {\n",
       "        vertical-align: middle;\n",
       "    }\n",
       "\n",
       "    .dataframe tbody tr th {\n",
       "        vertical-align: top;\n",
       "    }\n",
       "\n",
       "    .dataframe thead th {\n",
       "        text-align: right;\n",
       "    }\n",
       "</style>\n",
       "<table border=\"1\" class=\"dataframe\">\n",
       "  <thead>\n",
       "    <tr style=\"text-align: right;\">\n",
       "      <th></th>\n",
       "      <th>precision</th>\n",
       "      <th>recall</th>\n",
       "      <th>f1-score</th>\n",
       "      <th>support</th>\n",
       "    </tr>\n",
       "  </thead>\n",
       "  <tbody>\n",
       "    <tr>\n",
       "      <th>-1</th>\n",
       "      <td>0.660682</td>\n",
       "      <td>0.481675</td>\n",
       "      <td>0.557154</td>\n",
       "      <td>764.000000</td>\n",
       "    </tr>\n",
       "    <tr>\n",
       "      <th>0</th>\n",
       "      <td>0.574426</td>\n",
       "      <td>0.688679</td>\n",
       "      <td>0.626385</td>\n",
       "      <td>1272.000000</td>\n",
       "    </tr>\n",
       "    <tr>\n",
       "      <th>1</th>\n",
       "      <td>0.637540</td>\n",
       "      <td>0.607400</td>\n",
       "      <td>0.622105</td>\n",
       "      <td>973.000000</td>\n",
       "    </tr>\n",
       "    <tr>\n",
       "      <th>accuracy</th>\n",
       "      <td>0.609837</td>\n",
       "      <td>0.609837</td>\n",
       "      <td>0.609837</td>\n",
       "      <td>0.609837</td>\n",
       "    </tr>\n",
       "    <tr>\n",
       "      <th>macro avg</th>\n",
       "      <td>0.624216</td>\n",
       "      <td>0.592585</td>\n",
       "      <td>0.601881</td>\n",
       "      <td>3009.000000</td>\n",
       "    </tr>\n",
       "    <tr>\n",
       "      <th>weighted avg</th>\n",
       "      <td>0.616736</td>\n",
       "      <td>0.609837</td>\n",
       "      <td>0.607423</td>\n",
       "      <td>3009.000000</td>\n",
       "    </tr>\n",
       "  </tbody>\n",
       "</table>\n",
       "</div>"
      ],
      "text/plain": [
       "              precision    recall  f1-score      support\n",
       "-1             0.660682  0.481675  0.557154   764.000000\n",
       "0              0.574426  0.688679  0.626385  1272.000000\n",
       "1              0.637540  0.607400  0.622105   973.000000\n",
       "accuracy       0.609837  0.609837  0.609837     0.609837\n",
       "macro avg      0.624216  0.592585  0.601881  3009.000000\n",
       "weighted avg   0.616736  0.609837  0.607423  3009.000000"
      ]
     },
     "execution_count": 193,
     "metadata": {},
     "output_type": "execute_result"
    }
   ],
   "source": [
    "# modelando regressão logistica multinomial com BoW\n",
    "from sklearn.linear_model import LogisticRegression\n",
    "\n",
    "#instaciando modelo\n",
    "multinomial_LogReG = LogisticRegression(multi_class='multinomial')\n",
    "\n",
    "#treinando modelo\n",
    "multinomial_LogReG.fit(X_BoW_train, y_BoW_train)\n",
    "\n",
    "# visualizing predicions\n",
    "from sklearn.metrics import classification_report\n",
    "pred_multinomial_LogReg = multinomial_LogReG.predict(X_BoW_test)\n",
    "report = classification_report(y_BoW_test, pred_multinomial_LogReg, output_dict=True, digits=2)\n",
    "report = pd.DataFrame(report).transpose()\n",
    "report"
   ]
  },
  {
   "cell_type": "code",
   "execution_count": 182,
   "metadata": {},
   "outputs": [
    {
     "data": {
      "image/png": "[encoded data removed]",
      "text/plain": [
       "<Figure size 640x480 with 2 Axes>"
      ]
     },
     "metadata": {},
     "output_type": "display_data"
    }
   ],
   "source": [
    "# Logistic Regression Confuse Matrix\n",
    "from sklearn.metrics import confusion_matrix, ConfusionMatrixDisplay\n",
    "import matplotlib.pyplot as plt\n",
    "classes = [-1, 0, 1]\n",
    "labels = ['negativo', 'neutro', 'positivo']\n",
    "predictions = pred_multinomial_LogReg\n",
    "cm = confusion_matrix(y_BoW_test, predictions, labels=classes)\n",
    "disp = ConfusionMatrixDisplay(confusion_matrix=cm,\n",
    "                              display_labels=labels)\n",
    "disp.plot(cmap=plt.cm.Blues)\n",
    "plt.show()"
   ]
  },
  {
   "cell_type": "markdown",
   "metadata": {},
   "source": [
    "One other particularly strong feature of Prophet is its ability to return the components of our forecasts. This can help reveal how daily, weekly and yearly patterns of the time series plus manyally included holidayes contribute to the overall forecasted values:"
   ]
  },
  {
   "cell_type": "code",
   "execution_count": 194,
   "metadata": {},
   "outputs": [
    {
     "data": {
      "text/html": [
       "<div>\n",
       "<style scoped>\n",
       "    .dataframe tbody tr th:only-of-type {\n",
       "        vertical-align: middle;\n",
       "    }\n",
       "\n",
       "    .dataframe tbody tr th {\n",
       "        vertical-align: top;\n",
       "    }\n",
       "\n",
       "    .dataframe thead th {\n",
       "        text-align: right;\n",
       "    }\n",
       "</style>\n",
       "<table border=\"1\" class=\"dataframe\">\n",
       "  <thead>\n",
       "    <tr style=\"text-align: right;\">\n",
       "      <th></th>\n",
       "      <th>precision</th>\n",
       "      <th>recall</th>\n",
       "      <th>f1-score</th>\n",
       "      <th>support</th>\n",
       "    </tr>\n",
       "  </thead>\n",
       "  <tbody>\n",
       "    <tr>\n",
       "      <th>-1</th>\n",
       "      <td>0.571273</td>\n",
       "      <td>0.687173</td>\n",
       "      <td>0.623886</td>\n",
       "      <td>764.000000</td>\n",
       "    </tr>\n",
       "    <tr>\n",
       "      <th>0</th>\n",
       "      <td>0.608340</td>\n",
       "      <td>0.584906</td>\n",
       "      <td>0.596393</td>\n",
       "      <td>1272.000000</td>\n",
       "    </tr>\n",
       "    <tr>\n",
       "      <th>1</th>\n",
       "      <td>0.677047</td>\n",
       "      <td>0.603289</td>\n",
       "      <td>0.638043</td>\n",
       "      <td>973.000000</td>\n",
       "    </tr>\n",
       "    <tr>\n",
       "      <th>accuracy</th>\n",
       "      <td>0.616816</td>\n",
       "      <td>0.616816</td>\n",
       "      <td>0.616816</td>\n",
       "      <td>0.616816</td>\n",
       "    </tr>\n",
       "    <tr>\n",
       "      <th>macro avg</th>\n",
       "      <td>0.618887</td>\n",
       "      <td>0.625122</td>\n",
       "      <td>0.619441</td>\n",
       "      <td>3009.000000</td>\n",
       "    </tr>\n",
       "    <tr>\n",
       "      <th>weighted avg</th>\n",
       "      <td>0.621146</td>\n",
       "      <td>0.616816</td>\n",
       "      <td>0.616842</td>\n",
       "      <td>3009.000000</td>\n",
       "    </tr>\n",
       "  </tbody>\n",
       "</table>\n",
       "</div>"
      ],
      "text/plain": [
       "              precision    recall  f1-score      support\n",
       "-1             0.571273  0.687173  0.623886   764.000000\n",
       "0              0.608340  0.584906  0.596393  1272.000000\n",
       "1              0.677047  0.603289  0.638043   973.000000\n",
       "accuracy       0.616816  0.616816  0.616816     0.616816\n",
       "macro avg      0.618887  0.625122  0.619441  3009.000000\n",
       "weighted avg   0.621146  0.616816  0.616842  3009.000000"
      ]
     },
     "execution_count": 194,
     "metadata": {},
     "output_type": "execute_result"
    }
   ],
   "source": [
    "# modelando NayveBayes multinomial com BoW\n",
    "from sklearn.naive_bayes import MultinomialNB\n",
    "\n",
    "#instaciando modelo\n",
    "multinomial_NB = MultinomialNB()\n",
    "\n",
    "#treinando modelo\n",
    "multinomial_NB.fit(X_BoW_train, y_BoW_train)\n",
    "\n",
    "# visualizing predicions\n",
    "from sklearn.metrics import classification_report\n",
    "pred_multinomial_NB = multinomial_NB.predict(X_BoW_test)\n",
    "report = classification_report(y_BoW_test, pred_multinomial_NB, digits=2, output_dict=True)\n",
    "report = pd.DataFrame(report).transpose()\n",
    "report"
   ]
  },
  {
   "cell_type": "code",
   "execution_count": 184,
   "metadata": {},
   "outputs": [
    {
     "data": {
      "image/png": "[encoded data removed]",
      "text/plain": [
       "<Figure size 640x480 with 2 Axes>"
      ]
     },
     "metadata": {},
     "output_type": "display_data"
    }
   ],
   "source": [
    "# confusion matrix\n",
    "from sklearn.metrics import confusion_matrix, ConfusionMatrixDisplay\n",
    "import matplotlib.pyplot as plt\n",
    "classes = [-1, 0, 1]\n",
    "labels = ['negativo', 'neutro', 'positivo']\n",
    "predictions = pred_multinomial_NB\n",
    "cm = confusion_matrix(y_BoW_test, predictions, labels=classes)\n",
    "disp = ConfusionMatrixDisplay(confusion_matrix=cm,\n",
    "                              display_labels=labels)\n",
    "disp.plot(cmap=plt.cm.Blues)\n",
    "plt.show()\n",
    "\n"
   ]
  },
  {
   "cell_type": "markdown",
   "metadata": {},
   "source": [
    "# TF_IDF"
   ]
  },
  {
   "cell_type": "code",
   "execution_count": 185,
   "metadata": {},
   "outputs": [
    {
     "name": "stdout",
     "output_type": "stream",
     "text": [
      "              precision    recall  f1-score   support\n",
      "\n",
      "          -1       0.69      0.48      0.57       764\n",
      "           0       0.58      0.73      0.64      1272\n",
      "           1       0.66      0.59      0.63       973\n",
      "\n",
      "    accuracy                           0.62      3009\n",
      "   macro avg       0.64      0.60      0.61      3009\n",
      "weighted avg       0.63      0.62      0.62      3009\n",
      "\n"
     ]
    }
   ],
   "source": [
    "# modelando regressão logistica multinomial com TF_IDF\n",
    "from sklearn.linear_model import LogisticRegression\n",
    "\n",
    "#instaciando modelo\n",
    "multinomial_LogReG = LogisticRegression(multi_class='multinomial')\n",
    "\n",
    "#treinando modelo\n",
    "multinomial_LogReG.fit(X_TF_IDF_train, y_TF_IDF_train)\n",
    "\n",
    "# visualizing predicions\n",
    "from sklearn.metrics import classification_report\n",
    "pred_multinomial_LogReg = multinomial_LogReG.predict(X_TF_IDF_test)\n",
    "print(classification_report(y_TF_IDF_test, pred_multinomial_LogReg, digits=2))"
   ]
  },
  {
   "cell_type": "code",
   "execution_count": 186,
   "metadata": {},
   "outputs": [
    {
     "data": {
      "image/png": "[encoded data removed]",
      "text/plain": [
       "<Figure size 640x480 with 2 Axes>"
      ]
     },
     "metadata": {},
     "output_type": "display_data"
    }
   ],
   "source": [
    "# Logistic Regression Confuse Matrix\n",
    "from sklearn.metrics import confusion_matrix, ConfusionMatrixDisplay\n",
    "import matplotlib.pyplot as plt\n",
    "classes = [-1, 0, 1]\n",
    "labels = ['negativo', 'neutro', 'positivo']\n",
    "predictions = pred_multinomial_LogReg\n",
    "cm = confusion_matrix(y_TF_IDF_test, predictions, labels=classes)\n",
    "disp = ConfusionMatrixDisplay(confusion_matrix=cm,\n",
    "                              display_labels=labels)\n",
    "disp.plot(cmap=plt.cm.Blues)\n",
    "plt.show()"
   ]
  },
  {
   "cell_type": "code",
   "execution_count": 187,
   "metadata": {},
   "outputs": [
    {
     "name": "stdout",
     "output_type": "stream",
     "text": [
      "              precision    recall  f1-score   support\n",
      "\n",
      "          -1       0.69      0.48      0.57       764\n",
      "           0       0.58      0.73      0.64      1272\n",
      "           1       0.66      0.59      0.63       973\n",
      "\n",
      "    accuracy                           0.62      3009\n",
      "   macro avg       0.64      0.60      0.61      3009\n",
      "weighted avg       0.63      0.62      0.62      3009\n",
      "\n"
     ]
    }
   ],
   "source": [
    "# modelando  nayve bayes multinomial com TF_IDF\n",
    "from sklearn.naive_bayes import MultinomialNB\n",
    "\n",
    "#instaciando modelo\n",
    "multinomial_NB = MultinomialNB()\n",
    "\n",
    "#treinando modelo\n",
    "multinomial_NB.fit(X_TF_IDF_train, y_TF_IDF_train)\n",
    "\n",
    "# visualizing predicions\n",
    "from sklearn.metrics import classification_report\n",
    "pred_multinomial_NB = multinomial_NB.predict(X_TF_IDF_test)\n",
    "print(classification_report(y_TF_IDF_test, pred_multinomial_LogReg, digits=2))"
   ]
  },
  {
   "cell_type": "code",
   "execution_count": 188,
   "metadata": {},
   "outputs": [
    {
     "data": {
      "image/png": "[encoded data removed]",
      "text/plain": [
       "<Figure size 640x480 with 2 Axes>"
      ]
     },
     "metadata": {},
     "output_type": "display_data"
    }
   ],
   "source": [
    "# Logistic Regression Confuse Matrix\n",
    "from sklearn.metrics import confusion_matrix, ConfusionMatrixDisplay\n",
    "import matplotlib.pyplot as plt\n",
    "classes = [-1, 0, 1]\n",
    "labels = ['negativo', 'neutro', 'positivo']\n",
    "predictions = pred_multinomial_NB\n",
    "cm = confusion_matrix(y_TF_IDF_test, predictions, labels=classes)\n",
    "disp = ConfusionMatrixDisplay(confusion_matrix=cm,\n",
    "                              display_labels=labels)\n",
    "disp.plot(cmap=plt.cm.Blues)\n",
    "plt.show()"
   ]
  },
  {
   "cell_type": "markdown",
   "metadata": {},
   "source": [
    "## 5.2. Modelling assumptions <a class=\"anchor\" id=\"ModellingAssumptions\"></a>\n",
    "Many modelling techniques make specific assumptions about the data, for example that all attributes have uniform distributions, no missing values allowed, class attribute must be symbolic etc. Record any assumptions made.\n",
    "\n",
    "- The information provided is accurate.\n",
    "- No important or relevan information is missing during the analysis and modeling.\n",
    "- The holidays information in the dataset is precise and there is no omisions.\n",
    "* Stores with the same type have the sames caracteristic and have the same behavior in time.\n",
    "* Is not taken into account for this analysis the location of the stores. The location component is not included.\n",
    "* The macro economic variables remain stables and in a similar state to the historical data for the forecast periode.\n",
    "\n"
   ]
  },
  {
   "cell_type": "markdown",
   "metadata": {},
   "source": [
    "## 5.3. Model Build  <a class=\"anchor\" id=\"BuildModel\"></a>\n",
    "\n",
    "\n",
    "**Parameter settings** - With any modelling tool there are often a large number of parameters that can be adjusted. List the parameters and their chosen values, along with the rationale for the choice of parameter settings.\n",
    "\n",
    "\n",
    "\n"
   ]
  },
  {
   "cell_type": "markdown",
   "metadata": {},
   "source": [
    "**Model** \n",
    "\n",
    "These are the actual models produced by the modelling tool, not a report on the models.\n",
    "\n",
    "Prophet model = `my_model`\n",
    "\n",
    "Components of the model =   *my_model.plot_components(forecast)*\n",
    "\n",
    "* Trend\n",
    "* Holidays\n",
    "* Weekly behavior\n",
    "* Yearly behavior \n",
    "\n",
    "**Model descriptions** - Prophet it is based on an additive model where non-linear trends are fit with yearly and weekly seasonality, plus holidays. It enables performing automated forecasting which are already implemented in R at scale in Python 3.\n",
    "\n",
    "Not all forecasting problems can be solved by the same procedure. Prophet is optimized for the business forecast tasks we have encountered at Facebook, which typically have any of the following characteristics:\n",
    "\n",
    "* Hourly, daily, or weekly observations with at least a few months (preferably a year) of history\n",
    "* Strong multiple “human-scale” seasonalities: day of week and time of year\n",
    "* Important holidays that occur at irregular intervals that are known in advance (e.g. the Super Bowl)\n",
    "* A reasonable number of missing observations or large outliers\n",
    "* Historical trend changes, for instance due to product launches or logging changes\n",
    "* Trends that are non-linear growth curves, where a trend hits a natural limit or saturates\n",
    "\n",
    "Source:\n",
    "https://research.fb.com/prophet-forecasting-at-scale/"
   ]
  },
  {
   "cell_type": "markdown",
   "metadata": {},
   "source": [
    "**Advantages**\n",
    "\n",
    "* A powerful tool for the time series forecasting as it accounts for time dependencies, seasonalities and holidays (Prophet: manually).\n",
    "* Easily implemented with R auto.arima() from forecast package, which runs a complex grid search and sophisticated algorithm behind the scene.\n",
    "\n",
    "**Drawbacks**\n",
    "\n",
    "* Doesn't catch interactions between external features, which could improve the forecasting power of a model. In our case, these variables are Promo and CompetitionOpen.\n",
    "* Even though Prophet offers an automated solution for ARIMA, this methodology is under development and not completely stable.\n",
    "* Fitting seasonal ARIMA model needs 4 to 5 whole seasons in the dataset, which can be the biggest drawback for new companies.\n",
    "* Seasonal ARIMA in Python has 7 hyper parameters which can be tuned only manually affecting significantly the speed of the forecasting process.\n"
   ]
  },
  {
   "cell_type": "markdown",
   "metadata": {},
   "source": [
    "## 5.4. Assess Model <a class=\"anchor\" id=\"AssessModel\"></a>\n",
    "Interpret the models according to your domain knowledge, your data mining success criteria and your desired test design. Judge the success of the application of modelling and discovery techniques technically, then contact business analysts and domain experts later in order to discuss the data mining results in the business context. This task only considers models, whereas the evaluation phase also takes into account all other results that were produced in the course of the project.\n",
    "\n",
    "At this stage you should rank the models and assess them according to the evaluation criteria. You should take the business objectives and business success criteria into account as far as you can here. In most data mining projects a single technique is applied more than once and data mining results are generated with several different techniques. \n",
    "\n",
    "**Model assessment** - Summarise the results of this task, list the qualities of your generated models (e.g.in terms of accuracy) and rank their quality in relation to each other.\n",
    "\n",
    "**Revised parameter settings** - According to the model assessment, revise parameter settings and tune them for the next modelling run. Iterate model building and assessment until you strongly believe that you have found the best model(s). Document all such revisions and assessments."
   ]
  },
  {
   "cell_type": "markdown",
   "metadata": {},
   "source": [
    "***"
   ]
  },
  {
   "cell_type": "markdown",
   "metadata": {},
   "source": [
    "# Evaluation"
   ]
  },
  {
   "cell_type": "markdown",
   "metadata": {},
   "source": [
    "Previous evaluation steps dealt with factors such as the accuracy and generality of the model. During this step you'll assesses the degree to which the model meets your business objectives and seek to determine if there is some business reason why this model is deficient. \n",
    "Another option is to test the model(s) on test applications in the real application, if time and budget constraints permit. The evaluation phase also involves assessing any other data mining results you've generated. Data mining results involve models that are necessarily related to the original business objectives and all other findings that are not necessarily related to the original business objectives, but might also unveil additional challenges, information, or hints for future directions.\n",
    "\n",
    "* Assessment of data mining results - Summarise assessment results in terms of business success criteria, including a final statement regarding whether the project already meets the initial business objectives.\n",
    "\n",
    "* Approved models - After assessing models with respect to business success criteria, the generated models that meet the selected criteria become the approved models.\n"
   ]
  },
  {
   "cell_type": "markdown",
   "metadata": {},
   "source": [
    "![](assets/5.JPG)"
   ]
  },
  {
   "cell_type": "markdown",
   "metadata": {},
   "source": [
    "**Review process**\n",
    "\n",
    "At this point, the resulting models appear to be satisfactory and to satisfy business needs. It is now appropriate for you to do a more thorough review of the data mining engagement in order to determine if there is any important factor or task that has somehow been overlooked. This review also covers quality assurance issues—for example: did we correctly build the model? Did we use only the attributes that we are allowed to use and that are available for future analyses?\n",
    "\n",
    "* Review of process\n",
    "* Summarise the process review and highlight activities that have been missed and those that should be repeated.\n",
    "\n",
    "**Determine next steps**\n",
    "\n",
    "Depending on the results of the assessment and the process review, you now decide how to proceed.Do you finish this project and move on to deployment, initiate further iterations, or set up new data mining projects? You should also take stock of your remaining resources and budget as this may influence your decisions.\n",
    "\n",
    "* List of possible actions\n",
    "* List the potential further actions, along with the reasons for and against each option.\n",
    "* Decision - Describe the decision as to how to proceed.\n"
   ]
  },
  {
   "cell_type": "markdown",
   "metadata": {},
   "source": [
    "***"
   ]
  },
  {
   "cell_type": "markdown",
   "metadata": {},
   "source": [
    "# Deployment"
   ]
  },
  {
   "cell_type": "markdown",
   "metadata": {},
   "source": [
    "With our analysis complete, we move onto the final stage of the CRISP-DM process — Deployment. All implementation and deployment information related should be include in this chapter.\n",
    "In the deployment stage you'll take your evaluation results and determine a strategy for their deployment. If a general procedure has been identified to create the relevant model(s), this procedure is documented here for later deployment. It makes sense to consider the ways and means of deployment during the business understanding phase as well, because deployment is absolutely crucial to the success of the project. This is where predictive analytics really helps to improve the operational side of your business.\n",
    "\n",
    "* Deployment plan\n",
    "* Summarise your deployment strategy including the necessary steps and how to perform them.\n",
    "* Monitoring maintenance plan\n",
    "* Final report\n"
   ]
  },
  {
   "cell_type": "markdown",
   "metadata": {},
   "source": [
    "![](assets/6.JPG)"
   ]
  },
  {
   "cell_type": "markdown",
   "metadata": {},
   "source": [
    "At the end of the project you will write up a final report. Depending on the deployment plan, this report may be only a summary of the project and its experiences (if they have not already been documented as an ongoing activity) or it may be a final and comprehensive presentation of the data mining result(s).\n",
    "\n",
    "* Final report - This is the final written report of the data mining engagement. It includes all of the previous deliverables, summarising and organising the results.\n",
    "\n",
    "* Final presentation - There will also often be a meeting at the conclusion of the project at which the results are presented to the customer.\n"
   ]
  },
  {
   "cell_type": "markdown",
   "metadata": {},
   "source": [
    "Our deployment strategy must simply ensure that our analysis is readable, reproducible, and maintainable. We satisfy these requirements by generating a Jupyter Notebook detailing every step of the analytical process and documenting and justifying all choices made in data cleaning and feature generation, model selection and evaluation. \n",
    "\n",
    "Additionally, we provide instructions for installation and usage of our notebook in a README file."
   ]
  },
  {
   "cell_type": "markdown",
   "metadata": {},
   "source": [
    "***"
   ]
  },
  {
   "cell_type": "markdown",
   "metadata": {},
   "source": [
    "# Monitoring"
   ]
  },
  {
   "cell_type": "markdown",
   "metadata": {},
   "source": [
    "Monitoring and maintenance are important issues if the data mining result becomes part of the day-to-day business and its environment. The careful preparation of a maintenance strategy helps to avoid unnecessarily long periods of incorrect usage of data mining results. In order to monitor the deployment of the data mining result(s), the project needs a detailed monitoring process plan. This plan takes into account the specific type of deployment.\n",
    "\n",
    "* Monitoring and maintenance plan\n",
    "* Summarise the monitoring and maintenance strategy, including the necessary steps and how to perform them.\n"
   ]
  },
  {
   "cell_type": "markdown",
   "metadata": {},
   "source": [
    "![](monitoring.JPG)"
   ]
  },
  {
   "cell_type": "markdown",
   "metadata": {},
   "source": [
    "Centralize the monitoring of predictive models that are used in production is essential in a changing environment. \n",
    "\n",
    "Best practices may include:\n",
    "\n",
    "* Automate and schedule model apply and retraining tasks\n",
    "* Monitor model performance automatically\n",
    "* Automate the model lifecycle management\n",
    "* Create predictive models using a fully automated modeling workflow\n",
    "\n",
    "*Factors that influence when you should update your models:*\n",
    "\n",
    "* Business environment change\n",
    "* Frequency of model usage\n",
    "* The age of a model\n",
    "* Data readiness"
   ]
  },
  {
   "cell_type": "markdown",
   "metadata": {},
   "source": [
    "Models should be thoroughly evaluated and measured for accuracy, predictive power, stability over time, and other appropriate metrics that are defined by the model’s objectives. "
   ]
  },
  {
   "cell_type": "code",
   "execution_count": null,
   "metadata": {},
   "outputs": [],
   "source": []
  }
 ],
 "metadata": {
  "kernelspec": {
   "display_name": "base",
   "language": "python",
   "name": "python3"
  },
  "language_info": {
   "codemirror_mode": {
    "name": "ipython",
    "version": 3
   },
   "file_extension": ".py",
   "mimetype": "text/x-python",
   "name": "python",
   "nbconvert_exporter": "python",
   "pygments_lexer": "ipython3",
   "version": "3.11.4"
  }
 },
 "nbformat": 4,
 "nbformat_minor": 4
}
